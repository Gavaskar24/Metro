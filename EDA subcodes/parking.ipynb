{
 "cells": [
  {
   "cell_type": "code",
   "execution_count": 1,
   "metadata": {},
   "outputs": [],
   "source": [
    "import pandas as pd\n",
    "import matplotlib.pyplot as plt\n",
    "import numpy as np\n",
    "import seaborn as sns\n",
    "import plotly.express as px"
   ]
  },
  {
   "cell_type": "code",
   "execution_count": 2,
   "metadata": {},
   "outputs": [],
   "source": [
    "# Reading two csv files and combining them together\n",
    "def read_data():\n",
    "\n",
    "    df1=pd.read_csv('../outputfile_1.csv')\n",
    "    df2=pd.read_csv('../outputfile_2.csv')\n",
    "    df3=pd.read_csv('../outputfile_3.csv')\n",
    "    df4=pd.read_csv('../outputfile_4.csv')\n",
    "\n",
    "# df_parking=pd.read_csv('parking.csv')\n",
    "\n",
    "    df=pd.concat([df1,df2,df3,df4])\n",
    "    df_park=pd.concat([df2,df3,df4])\n",
    "    df['VEHICLE']=np.where((df['CARS']==0) & (df['TWO_WHEELER']==0),0,1)\n",
    "    df_park['VEHICLE']=np.where((df_park['CARS']==0) & (df_park['TWO_WHEELER']==0),0,1)\n",
    "    return df,df_park\n",
    "df,df_park=read_data()"
   ]
  },
  {
   "cell_type": "code",
   "execution_count": 3,
   "metadata": {},
   "outputs": [],
   "source": [
    "def map_access_dis(ACCESS_DIS):\n",
    "    if ACCESS_DIS in [1, 2]:\n",
    "        return ACCESS_DIS\n",
    "    elif ACCESS_DIS in [3,4]:\n",
    "        return 3\n",
    "    elif ACCESS_DIS in [5,6,7,8]:\n",
    "        return 4\n",
    "    elif ACCESS_DIS in [9,10,11]:\n",
    "        return 5\n",
    "\n",
    "# Apply the mapping function to create the 'ACCESS_DIS_B' column\n",
    "df['ACCESS_DIS_B'] = df['ACCESS_DIS'].apply(map_access_dis)\n",
    "\n",
    "\n",
    "\n",
    "# convert all values of EGRESS_DIS into integers\n",
    "df[\"EGRESS_DIS\"]=df[\"EGRESS_DIS\"].astype(int)\n",
    "\n",
    "def map_egress_dis(EGRESS_DIS):\n",
    "    if EGRESS_DIS in [1,2]:\n",
    "        return int(EGRESS_DIS)\n",
    "    if EGRESS_DIS in [3,4]:\n",
    "        return 3\n",
    "    if EGRESS_DIS in [5,6,7,8]:\n",
    "        return 4\n",
    "    if EGRESS_DIS in [9,10,11]:\n",
    "        return 5\n",
    "    elif EGRESS_DIS in [0]:\n",
    "        return 2\n",
    "    \n",
    "    \n",
    "\n",
    "# Apply the mapping function to create the 'EGRESS_DIS_B' column\n",
    "df['EGRESS_DIS_B'] = df['EGRESS_DIS'].apply(map_egress_dis)\n"
   ]
  },
  {
   "cell_type": "code",
   "execution_count": 4,
   "metadata": {},
   "outputs": [],
   "source": [
    "def map_age():\n",
    "    age_mapping = {\n",
    "    \"18-25 yrs\": 21.5,\n",
    "    '> 60 yrs ':65,\n",
    "    '36-45yrs ':40, \n",
    "    '36-45 yrs ':40, \n",
    "    '18-25 yrs ':22,\n",
    "    '26-35 yrs ':30,\n",
    "    '18-25yrs ':22,\n",
    "    '26-35yrs ':30, \n",
    "    '46-60 yrs ':54,\n",
    "      '46-60yrs ':54\n",
    "    }\n",
    "\n",
    "# Map the 'AGE' column to average values\n",
    "    df['AGE'] = df['AGE'].map(age_mapping)\n",
    "    df_park['AGE']=df_park['AGE'].map(age_mapping)\n",
    "\n",
    "    return df,df_park\n",
    "\n",
    "df,df_park=map_age()\n",
    "\n"
   ]
  },
  {
   "cell_type": "code",
   "execution_count": 5,
   "metadata": {},
   "outputs": [],
   "source": [
    "def map_income():\n",
    "       income_mapper={'>2 Lakhs':3, 'nan':0, '25,001 – 50,000':1, '1,00,001 – 2,00,000':3,\n",
    "       '10,001 – 25,000':1, '50,001 – 1,00,000':2, '<=10,000':1}\n",
    "       df['INCOME']=df.INCOME.map(income_mapper)\n",
    "       df_park['INCOME']=df_park.INCOME.map(income_mapper)\n",
    "\n",
    "       # print(df['INCOME'].value_counts())\n",
    "\n",
    "       return df,df_park\n"
   ]
  },
  {
   "cell_type": "code",
   "execution_count": 6,
   "metadata": {},
   "outputs": [],
   "source": [
    "access_map={1:'Walk',2:'Bicycle',3:'Two wheeler',4:'Car',5:'Ride hire',6:'Ride hire',7:'Ride hire',8:'Other',9:'Other',10:'Other',11:'Other',12:'Other'}\n",
    "\n",
    "# create a new column mapping ACCESS_M to above dictionary\n",
    "\n",
    "df['A_M']=df['ACCESS_M'].map(access_map)\n",
    "\n",
    "\n",
    "\n",
    "egress_map={1:'Walk',2:'Bicycle',3:'Two wheeler',4:'Car',5:'Ride hire',6:'Ride hire',7:'Ride hire',8:'Other',9:'Other',10:'Other',11:'Other',12:'Other'}\n",
    "\n",
    "# create a new column mapping EGRESS_M to above dictionary\n",
    "\n",
    "df['E_M']=df['EGRESS_M'].map(egress_map)"
   ]
  },
  {
   "cell_type": "code",
   "execution_count": 25,
   "metadata": {},
   "outputs": [
    {
     "data": {
      "text/plain": [
       "Text(0.5, 1.0, 'Response to use own bicycle if parking is provided')"
      ]
     },
     "execution_count": 25,
     "metadata": {},
     "output_type": "execute_result"
    },
    {
     "data": {
      "image/png": "[encoded data removed]",
      "text/plain": [
       "<Figure size 640x480 with 1 Axes>"
      ]
     },
     "metadata": {},
     "output_type": "display_data"
    }
   ],
   "source": [
    "df1=df_park[df_park['PARK']!=3]\n",
    "# lets visualize PARK column with a pie chart\n",
    "\n",
    "plt.pie(df1['PARK'].value_counts(),labels=['Will not use','present condition','cycle lane'],autopct='%1.1f%%')\n",
    "plt.title('Response to use own bicycle if parking is provided')"
   ]
  },
  {
   "cell_type": "code",
   "execution_count": 27,
   "metadata": {},
   "outputs": [
    {
     "data": {
      "text/plain": [
       "0    1018\n",
       "1     238\n",
       "2      32\n",
       "3       5\n",
       "Name: N_BICYCLES, dtype: int64"
      ]
     },
     "execution_count": 27,
     "metadata": {},
     "output_type": "execute_result"
    }
   ],
   "source": [
    "df1['N_BICYCLES'].value_counts()"
   ]
  }
 ],
 "metadata": {
  "kernelspec": {
   "display_name": "Python 3",
   "language": "python",
   "name": "python3"
  },
  "language_info": {
   "codemirror_mode": {
    "name": "ipython",
    "version": 3
   },
   "file_extension": ".py",
   "mimetype": "text/x-python",
   "name": "python",
   "nbconvert_exporter": "python",
   "pygments_lexer": "ipython3",
   "version": "3.11.2"
  }
 },
 "nbformat": 4,
 "nbformat_minor": 2
}
