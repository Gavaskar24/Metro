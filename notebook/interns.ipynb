{
 "cells": [
  {
   "cell_type": "code",
   "execution_count": 112,
   "metadata": {},
   "outputs": [],
   "source": [
    "import pandas as pd\n",
    "import numpy as np\n",
    "import matplotlib.pyplot as plt\n",
    "import seaborn as sns\n",
    "from wordcloud import WordCloud\n",
    "from datetime import datetime, date\n",
    "import re\n",
    "from IPython.display import display,HTML\n",
    "from tabulate import tabulate"
   ]
  },
  {
   "cell_type": "code",
   "execution_count": 113,
   "metadata": {},
   "outputs": [],
   "source": [
    "file_path='E:/Metro2/raw_data//'\n",
    "df=pd.read_csv(file_path+'Data.csv')"
   ]
  },
  {
   "cell_type": "code",
   "execution_count": 114,
   "metadata": {},
   "outputs": [],
   "source": [
    "for column in df.select_dtypes(include='object').columns:\n",
    "    if re.match(r'^12c\\([a-e]\\)$', column):\n",
    "        df[column] = df[column].apply(lambda x: 'Will use for both trips' if ',' in x else x)\n",
    "    df[column] = df[column].str.replace(r'\\(.*\\)', '', regex=True)\n"
   ]
  },
  {
   "cell_type": "code",
   "execution_count": 115,
   "metadata": {},
   "outputs": [
    {
     "data": {
      "text/plain": [
       "array(['Anshu', 'Gayathri Krija', 'Gayathri Krija ', 'Govardhan G ',\n",
       "       'HAMIM SADIQUE', 'HAMIM SADIQUE ', 'Hari Prasad ', 'HARIPRASAD ',\n",
       "       'HariPrasad ', 'HariPrasad h', 'Keerthi M ', 'Ruthu', 'Ruthu m',\n",
       "       'Ruthu m ', 'Sneha', 'sneha', 'Sneha ', 'Tulasi', 'Tulasi ',\n",
       "       'tulasi ', 'Tulasi NS ', 'Vasundhara N', 'Vasundhara N '],\n",
       "      dtype=object)"
      ]
     },
     "execution_count": 115,
     "metadata": {},
     "output_type": "execute_result"
    }
   ],
   "source": [
    "df['1'].unique()"
   ]
  },
  {
   "cell_type": "code",
   "execution_count": 116,
   "metadata": {},
   "outputs": [
    {
     "name": "stdout",
     "output_type": "stream",
     "text": [
      "['Anshu' 'Gayathri' 'Govardhan' 'HAMIM' 'HariPrasad' 'Keerthi M ' 'Ruthu'\n",
      " 'Sneha' 'Tulasi' 'Vasundhara N'] 583\n"
     ]
    }
   ],
   "source": [
    "name_dict = {'Tulasi ':'Tulasi', 'Vasundhara N ': 'Vasundhara N', 'Tulasi NS ':'Tulasi',\n",
    "        'Varad ':'varad', 'Varad Verma ':'varad', 'Varad Verm ':'varad',\n",
    "       'Varad. Verma ':'varad', 'Varad Verma':'varad', 'Varad verma':'varad','Sneha ':'Sneha',\n",
    "       'HAMIM SADIQUE ':'HAMIM','HAMIM SADIQUE':'HAMIM','Gayathri Krija ':'Gayathri','tulasi ':'Tulasi',\n",
    "       'Ruthu m':'Ruthu','Ruthu m ':'Ruthu','sneha':'Sneha','HariPrasad h':'HariPrasad','Hari Prasad ':'HariPrasad','HARIPRASAD ':'HariPrasad',\n",
    "       'HariPrasad ':'HariPrasad','Govardhan G ':'Govardhan','Gayathri Krija':'Gayathri'}\n",
    "\n",
    "# map column 1 names to the above name_dict\n",
    "df['1'] = df['1'].map(name_dict).fillna(df['1'])\n",
    "\n",
    "print(df['1'].unique(),df.shape[0])"
   ]
  },
  {
   "cell_type": "code",
   "execution_count": 134,
   "metadata": {},
   "outputs": [
    {
     "data": {
      "text/html": [
       "<h2>Number of instances where income is not collected</h0>"
      ],
      "text/plain": [
       "<IPython.core.display.HTML object>"
      ]
     },
     "metadata": {},
     "output_type": "display_data"
    },
    {
     "name": "stdout",
     "output_type": "stream",
     "text": [
      "+--------------+-------------+---------------+------------+\n",
      "|    Intern    | # Instances | Total samples | Percentage |\n",
      "+--------------+-------------+---------------+------------+\n",
      "|    Anshu     |      1      |      50       |    2.0     |\n",
      "|   Gayathri   |      3      |      39       |    7.69    |\n",
      "|  Govardhan   |      1      |      12       |    8.33    |\n",
      "|    HAMIM     |     22      |      32       |   68.75    |\n",
      "|    Ruthu     |      2      |      53       |    3.77    |\n",
      "|    Sneha     |      1      |      63       |    1.59    |\n",
      "| Vasundhara N |     86      |      148      |   58.11    |\n",
      "+--------------+-------------+---------------+------------+\n"
     ]
    }
   ],
   "source": [
    "display(HTML(f\"<h2>Number of instances where income is not collected</h0>\"))\n",
    "# Filter rows where column '21' is NA\n",
    "filtered_df = df[df['21'].isna()]\n",
    "\n",
    "# Group by column '1' and count the instances where column '21' is NA\n",
    "result = filtered_df.groupby('1').size().reset_index(name='Count')\n",
    "\n",
    "# Calculate the total number of occurrences for each unique entry in column '1'\n",
    "total_counts = df.groupby('1').size().reset_index(name='Total')\n",
    "\n",
    "# Merge the total counts with the NA counts\n",
    "merged_df = pd.merge(result, total_counts, on='1')\n",
    "\n",
    "# Calculate the percentage of instances where column '21' is missing\n",
    "merged_df['Percentage'] = round((merged_df['Count'] / merged_df['Total']) * 100,2)\n",
    "\n",
    "# Customize column names\n",
    "merged_df.columns = ['Intern', '# Instances', 'Total samples', 'Percentage']\n",
    "\n",
    "# Set index to start from 1 for entries\n",
    "merged_df.index += 1\n",
    "\n",
    "# Convert DataFrame to tabular form\n",
    "table = tabulate(merged_df, headers='keys', tablefmt='pretty', showindex=False)\n",
    "\n",
    "# Print the table\n",
    "print(table)"
   ]
  },
  {
   "cell_type": "code",
   "execution_count": 118,
   "metadata": {},
   "outputs": [],
   "source": [
    "df['Timestamp'] = pd.to_datetime(df['Timestamp'], format='%d-%m-%Y %H:%M')\n",
    "df['day'] = df['Timestamp'].dt.day\n",
    "df['date'] = df['Timestamp'].dt.strftime('%d-%m-%Y')\n",
    "# df['Time stamp time'] = pd.to_datetime(df['Timestamp']).apply(lambda x: x.time())\n",
    "# df['Start time of survey']=pd.to_datetime(df['Start time of survey'])\n",
    "# df['Start time of survey'] = df['Start time of survey'].apply(lambda x: datetime.strftime(x, '%H:%M:%S'))\n"
   ]
  },
  {
   "cell_type": "code",
   "execution_count": 135,
   "metadata": {},
   "outputs": [
    {
     "data": {
      "text/html": [
       "<h2>Dates of survey done by each intern</h0>"
      ],
      "text/plain": [
       "<IPython.core.display.HTML object>"
      ]
     },
     "metadata": {},
     "output_type": "display_data"
    },
    {
     "name": "stdout",
     "output_type": "stream",
     "text": [
      "Anshu        (3) : 06-05-2024, 07-05-2024, 18-05-2024\n",
      "Gayathri     (2) : 06-05-2024, 07-05-2024\n",
      "Govardhan    (2) : 08-05-2024, 09-05-2024\n",
      "HAMIM        (2) : 05-05-2024, 10-05-2024\n",
      "HariPrasad   (2) : 08-05-2024, 09-05-2024\n",
      "Keerthi M    (10) : 01-05-2024, 02-05-2024, 03-05-2024, 05-05-2024, 08-05-2024, 10-05-2024, 11-05-2024, 12-05-2024, 17-05-2024, 18-05-2024\n",
      "Ruthu        (5) : 05-05-2024, 08-05-2024, 10-05-2024, 17-05-2024, 18-05-2024\n",
      "Sneha        (5) : 02-05-2024, 03-05-2024, 07-05-2024, 08-05-2024, 17-05-2024\n",
      "Tulasi       (5) : 01-05-2024, 02-05-2024, 03-05-2024, 04-05-2024, 05-05-2024\n",
      "Vasundhara N (10) : 01-05-2024, 02-05-2024, 03-05-2024, 04-05-2024, 05-05-2024, 08-05-2024, 11-05-2024, 12-05-2024, 17-05-2024, 18-05-2024\n"
     ]
    }
   ],
   "source": [
    "display(HTML(f\"<h2>Dates of survey done by each intern</h0>\"))\n",
    "\n",
    "sorted_names = sorted(df['1'].unique())\n",
    "\n",
    "# Find the length of the longest name for uniform spacing\n",
    "max_name_length = max(len(name) for name in sorted_names)\n",
    "\n",
    "# Print the names and their corresponding unique dates with proper spacing\n",
    "for name in sorted_names:\n",
    "    unique_dates = sorted(df[df['1'] == name]['date'].unique())\n",
    "    dates_str = ', '.join(unique_dates)\n",
    "    count = len(unique_dates)\n",
    "    print(f\"{name:<{max_name_length}} ({count}) : {dates_str}\")"
   ]
  },
  {
   "cell_type": "code",
   "execution_count": 121,
   "metadata": {},
   "outputs": [
    {
     "data": {
      "image/png": "[encoded data removed]",
      "text/plain": [
       "<Figure size 2200x800 with 2 Axes>"
      ]
     },
     "metadata": {},
     "output_type": "display_data"
    }
   ],
   "source": [
    "plt.rcParams['font.family'] = 'Arial'\n",
    "f,ax=plt.subplots(1,2,figsize=(22,8))\n",
    "sns.countplot(x=df['1'],data=df,palette = 'dark',hue='17',saturation=0.95,ax=ax[0])\n",
    "ax[0].set_title('Interns data count',color='black',size=25)\n",
    "ax[0].legend()\n",
    "for container in ax[0].containers:\n",
    "    ax[0].bar_label(container,color='black',size=20)\n",
    "sns.countplot(x=df['1'],data=df,palette = 'colorblind',hue='18',saturation=0.95,ax=ax[1])\n",
    "ax[1].legend()\n",
    "for container in ax[1].containers:\n",
    "    ax[1].bar_label(container,color='black',size=15)   \n"
   ]
  },
  {
   "cell_type": "code",
   "execution_count": 122,
   "metadata": {},
   "outputs": [
    {
     "data": {
      "text/plain": [
       "array(['No, I will not use a bicycle. ',\n",
       "       'If a marked cycle lane is provided. Per Trip cost 1₹. Parking cost 10₹ per day. ',\n",
       "       'If a segregated cycle track is provided. Per Trip cost 3₹.. Parking cost 10₹ per day. ',\n",
       "       'Not Applicable- because neither of my trip end is home. ',\n",
       "       'If a marked cycle lane provided along with bicycle traffic signals is provided. Per Trip cost 2₹. Parking cost 10₹ per day. ',\n",
       "       'Current travelling conditions with no special cycling facility. Per Trip cost 0₹. Parking cost of 10₹ per day. ',\n",
       "       'If a segregated cycle track with bicycle signal is provided. Per Trip cost 4₹. Parking cost 10₹ per day. ',\n",
       "       'If a segregated cycle track is provided. At traffic signals, no separate signal phase for bicycle movement.Additional cost Per Trip 3₹ .',\n",
       "       'If a marked cycle lane is provided. At traffic signals, no separate signal phase for bicycle movement.Additional cost Per Trip 1₹. ',\n",
       "       'If a marked cycle lane is provided along with bicycle traffic signals. At traffic signals, there is a separate signal phase for bicycle movement.Additional cost Per Trip 2₹.  ',\n",
       "       'If a segregated cycle track provided along with bicycle traffic signals. At traffic signals, there is a separate signal phase for bicycle movement.Additional cost Per Trip 4₹ . .                                                                                                                                                                     .',\n",
       "       'Current travelling conditions with no special cycling facility.Additional cost Per Trip 0₹. ಯಾವುದೇ ವಿಶೇಷ ಸೈಕ್ಲಿಂಗ್ ಸೌಲಭ್ಯವಿಲ್ಲದೆ ಪ್ರಸ್ತುತ ಪ್ರಯಾಣದ ಪರಿಸ್ಥಿತಿಗಳು. ಪ್ರತಿ ಪ್ರವಾಸಕ್ಕೆ ಹೆಚ್ಚುವರಿ ವೆಚ್ಚ 0₹'],\n",
       "      dtype=object)"
      ]
     },
     "execution_count": 122,
     "metadata": {},
     "output_type": "execute_result"
    }
   ],
   "source": [
    "df['23'].unique()"
   ]
  },
  {
   "cell_type": "code",
   "execution_count": 123,
   "metadata": {},
   "outputs": [],
   "source": [
    "parking_dict={'No, I will not use a bicycle. ':'Will not use',\n",
    "       'Current travelling conditions with no special cycling facility. Per Trip cost 0₹. Parking cost of 10₹ per day. ':'Current conditions',\n",
    "       'If a marked cycle lane is provided. Per Trip cost 1₹. Parking cost 10₹ per day. ':'Marked lane',\n",
    "       'Not Applicable- because neither of my trip end is home. ':'NA',\n",
    "       'If a marked cycle lane provided along with bicycle traffic signals is provided. Per Trip cost 2₹. Parking cost 10₹ per day. ':'Marked lane + signal',\n",
    "       'If a segregated cycle track is provided. Per Trip cost 3₹.. Parking cost 10₹ per day. ':'Segregated track',\n",
    "       'If a segregated cycle track with bicycle signal is provided. Per Trip cost 4₹. Parking cost 10₹ per day. ':'Segregated track + signal'}\n",
    "\n",
    "df['23']=df['23'].map(parking_dict).fillna(df['23'])"
   ]
  },
  {
   "cell_type": "code",
   "execution_count": 124,
   "metadata": {},
   "outputs": [
    {
     "data": {
      "text/plain": [
       "array(['Will not use', 'Marked lane', 'Segregated track', 'NA',\n",
       "       'Marked lane + signal', 'Current conditions',\n",
       "       'Segregated track + signal',\n",
       "       'If a segregated cycle track is provided. At traffic signals, no separate signal phase for bicycle movement.Additional cost Per Trip 3₹ .',\n",
       "       'If a marked cycle lane is provided. At traffic signals, no separate signal phase for bicycle movement.Additional cost Per Trip 1₹. ',\n",
       "       'If a marked cycle lane is provided along with bicycle traffic signals. At traffic signals, there is a separate signal phase for bicycle movement.Additional cost Per Trip 2₹.  ',\n",
       "       'If a segregated cycle track provided along with bicycle traffic signals. At traffic signals, there is a separate signal phase for bicycle movement.Additional cost Per Trip 4₹ . .                                                                                                                                                                     .',\n",
       "       'Current travelling conditions with no special cycling facility.Additional cost Per Trip 0₹. ಯಾವುದೇ ವಿಶೇಷ ಸೈಕ್ಲಿಂಗ್ ಸೌಲಭ್ಯವಿಲ್ಲದೆ ಪ್ರಸ್ತುತ ಪ್ರಯಾಣದ ಪರಿಸ್ಥಿತಿಗಳು. ಪ್ರತಿ ಪ್ರವಾಸಕ್ಕೆ ಹೆಚ್ಚುವರಿ ವೆಚ್ಚ 0₹'],\n",
       "      dtype=object)"
      ]
     },
     "execution_count": 124,
     "metadata": {},
     "output_type": "execute_result"
    }
   ],
   "source": [
    "df['23'].unique()"
   ]
  },
  {
   "cell_type": "code",
   "execution_count": 141,
   "metadata": {},
   "outputs": [
    {
     "data": {
      "text/html": [
       "<h2>Origin and destination both are not home and response to Q23 was recorded as willing to use their own bicycle</h2>"
      ],
      "text/plain": [
       "<IPython.core.display.HTML object>"
      ]
     },
     "metadata": {},
     "output_type": "display_data"
    }
   ],
   "source": [
    "display(HTML(f\"<h2>Origin and destination both are not home and response to Q23 was recorded as willing to use their own bicycle</h2>\"))"
   ]
  },
  {
   "cell_type": "code",
   "execution_count": 125,
   "metadata": {},
   "outputs": [
    {
     "name": "stdout",
     "output_type": "stream",
     "text": [
      "1\n",
      "Keerthi M       18\n",
      "Anshu            5\n",
      "HAMIM            5\n",
      "Govardhan        3\n",
      "Gayathri         2\n",
      "Tulasi           2\n",
      "Vasundhara N     2\n",
      "Sneha            1\n",
      "Name: count, dtype: int64\n"
     ]
    }
   ],
   "source": [
    "# lets get the count of number of instances for each unique value of column 1 where when column 4 and column 6 both are not equal to Home and also column 23 \n",
    "# is not equal to NA\n",
    "print(df[(df['4']!='Home ') & (df['6']!='Home ') & (df['23']!='NA')]['1'].value_counts())"
   ]
  },
  {
   "cell_type": "markdown",
   "metadata": {},
   "source": [
    "### Check of qualification with age "
   ]
  },
  {
   "cell_type": "code",
   "execution_count": 126,
   "metadata": {},
   "outputs": [
    {
     "data": {
      "text/plain": [
       "18          19                        \n",
       "18-25 yrs   Graduate                      120\n",
       "            12th Std.                      23\n",
       "            Trade/Diploma Certificate      16\n",
       "            Postgraduate                    8\n",
       "            10th Std.                       3\n",
       "26-35 yrs   Graduate                      143\n",
       "            Postgraduate                   20\n",
       "            Trade/Diploma Certificate      19\n",
       "            12th Std.                      14\n",
       "            10th Std.                       6\n",
       "            < 10th Std.                     2\n",
       "            Doctorate                       1\n",
       "36-45 yrs   Graduate                       51\n",
       "            12th Std.                      28\n",
       "            Postgraduate                   16\n",
       "            Trade/Diploma Certificate      11\n",
       "            10th Std.                      11\n",
       "            < 10th Std.                     4\n",
       "            Doctorate                       1\n",
       "46-60 yrs   12th Std.                      29\n",
       "            Graduate                       18\n",
       "            10th Std.                       6\n",
       "            Postgraduate                    5\n",
       "            < 10th Std.                     3\n",
       "            Trade/Diploma Certificate       3\n",
       "            Doctorate                       2\n",
       "> 60 yrs    Graduate                        8\n",
       "            12th Std.                       6\n",
       "            10th Std.                       3\n",
       "            < 10th Std.                     2\n",
       "            Postgraduate                    1\n",
       "Name: count, dtype: int64"
      ]
     },
     "execution_count": 126,
     "metadata": {},
     "output_type": "execute_result"
    }
   ],
   "source": [
    "# lets see the value counts of each value in column 19 for each unique entry of column 18\n",
    "df.groupby('18')['19'].value_counts()"
   ]
  },
  {
   "cell_type": "markdown",
   "metadata": {},
   "source": [
    "### Age and occupation"
   ]
  },
  {
   "cell_type": "code",
   "execution_count": 127,
   "metadata": {},
   "outputs": [
    {
     "data": {
      "text/plain": [
       "18          20                           \n",
       "18-25 yrs   Student                          134\n",
       "            Employed Private                  34\n",
       "            Daily Wage                         1\n",
       "            Business                           1\n",
       "26-35 yrs   Employed Private                 144\n",
       "            Unemployed/Retired/Homemaker      33\n",
       "            Employed Govt.                     9\n",
       "            Student                            9\n",
       "            Business                           8\n",
       "            Daily Wage                         2\n",
       "36-45 yrs   Employed Private                  57\n",
       "            Unemployed/Retired/Homemaker      43\n",
       "            Business                          10\n",
       "            Employed Govt.                     6\n",
       "            Daily Wage                         6\n",
       "46-60 yrs   Unemployed/Retired/Homemaker      32\n",
       "            Employed Private                  17\n",
       "            Employed Govt.                    12\n",
       "            Business                           3\n",
       "            Daily Wage                         2\n",
       "> 60 yrs    Unemployed/Retired/Homemaker      15\n",
       "            Employed Govt.                     3\n",
       "            Business                           1\n",
       "            Employed Private                   1\n",
       "Name: count, dtype: int64"
      ]
     },
     "execution_count": 127,
     "metadata": {},
     "output_type": "execute_result"
    }
   ],
   "source": [
    "df.groupby('18')['20'].value_counts()"
   ]
  },
  {
   "cell_type": "markdown",
   "metadata": {},
   "source": [
    "#### Prints if the respondent reported as unemployed but his details such as age, OD are not consistent"
   ]
  },
  {
   "cell_type": "code",
   "execution_count": 142,
   "metadata": {},
   "outputs": [
    {
     "data": {
      "text/html": [
       "<div>\n",
       "<style scoped>\n",
       "    .dataframe tbody tr th:only-of-type {\n",
       "        vertical-align: middle;\n",
       "    }\n",
       "\n",
       "    .dataframe tbody tr th {\n",
       "        vertical-align: top;\n",
       "    }\n",
       "\n",
       "    .dataframe thead th {\n",
       "        text-align: right;\n",
       "    }\n",
       "</style>\n",
       "<table border=\"1\" class=\"dataframe\">\n",
       "  <thead>\n",
       "    <tr style=\"text-align: right;\">\n",
       "      <th></th>\n",
       "      <th>1</th>\n",
       "      <th>Timestamp</th>\n",
       "    </tr>\n",
       "  </thead>\n",
       "  <tbody>\n",
       "  </tbody>\n",
       "</table>\n",
       "</div>"
      ],
      "text/plain": [
       "Empty DataFrame\n",
       "Columns: [1, Timestamp]\n",
       "Index: []"
      ]
     },
     "execution_count": 142,
     "metadata": {},
     "output_type": "execute_result"
    }
   ],
   "source": [
    "df['20'].unique()\n",
    "\n",
    "# for each entry of column 20 with 'Unemployed/Retired/Homemaker ' get the column 1 and column Timestamp if column 18 is not >60 yrs or 46-60 yrs,\n",
    "#  and column 4 is work and column 6 is work\n",
    "df[(df['20']=='Unemployed/Retired/Homemaker ') & (df['18']!='>60 yrs') & (df['18']!='46-60 yrs') & ((df['4']=='Work ') | (df['6']=='Work '))][['1','Timestamp']]\n",
    "\n",
    "# df[df['20']=='Unemployed/Retired/Homemaker '][['18','17','4','6']]"
   ]
  },
  {
   "cell_type": "code",
   "execution_count": 129,
   "metadata": {},
   "outputs": [
    {
     "data": {
      "text/plain": [
       "array(['Ulall', 'Sirike bus bus Stop',\n",
       "       'Community institute of management, jayanagar ',\n",
       "       'Ashok Nagar police station ', 'Mejestrict court ', 'Acs college ',\n",
       "       'Bidadi', 'MC layout ', 'Ramurthy nagar', 'ITPL', 'Rohan avrithi',\n",
       "       'Near byapnalli ground ', 'Malleswaram '], dtype=object)"
      ]
     },
     "execution_count": 129,
     "metadata": {},
     "output_type": "execute_result"
    }
   ],
   "source": [
    "df[df['1']=='HariPrasad']['5'].unique()"
   ]
  },
  {
   "cell_type": "markdown",
   "metadata": {},
   "source": [
    "### Sanity check for total time"
   ]
  },
  {
   "cell_type": "code",
   "execution_count": 130,
   "metadata": {},
   "outputs": [
    {
     "name": "stdout",
     "output_type": "stream",
     "text": [
      "Intern          Index    Total Time    Access Time    Egress Time    Time in metro  Origin                                              Destination\n",
      "------------  -------  ------------  -------------  -------------  ---------------  --------------------------------------------------  -------------------------------------------\n",
      "Anshu               1            20              5             10                5  Pantharapalya - Nayandahalli                        Jnanabharathi\n",
      "Anshu              22            20             10              5                5  Seetharampalya                                      Krishnarajapuram - K.R.Puram\n",
      "Anshu              45            20             10              5                5  Konanakunte Cross                                   Silk Institute\n",
      "Gayathri           51            20             15              5                0  Rajarajeshwari Nagar                                Kengeri Bus Terminal\n",
      "Gayathri           53            30             10             20                0  Sri Balagangadharanatha Swamiji Station, Hosahalli  Pantharapalya - Nayandahalli\n",
      "Gayathri           65            30             10             15                5  Singayyanapalya                                     Halasuru\n",
      "Gayathri           70            20             10              5                5  Mahatma Gandhi Road                                 Halasuru\n",
      "Gayathri           75            20             10              5                5  Kadugodi Tree Park                                  Benniganahalli - Tin factory\n",
      "Gayathri           80            30             15             10                5  Mantri Square Sampige Road                          Vijayanagar\n",
      "Govardhan          99            20             10             15               -5  Hoodi                                               Indiranagar\n",
      "HAMIM             107            25              5             25               -5  Nagasandra                                          Krantivira Sangolli Rayanna Railway Station\n",
      "HariPrasad        139            60             60              5               -5  Kengeri Bus Terminal                                Jalahalli\n",
      "HariPrasad        141            20             20             15              -15  Krishnarajapuram - K.R.Puram                        Kadugodi Tree Park\n",
      "HariPrasad        145            20             30             10              -20  Magadi Road                                         Mysore Road\n",
      "Keerthi M         147             5              5             10              -10  Hoodi                                               Krishnarajapuram - K.R.Puram\n",
      "Ruthu             278            20              5             10                5  Vajarahalli                                         Jayaprakash Nagar\n",
      "Ruthu             293            30             10             15                5  Rajajinagar                                         Banashankari\n",
      "Ruthu             299            25             10             10                5  Yeshwanthpur                                        Sandal Soap Factory\n",
      "Ruthu             307            20              8             10                2  Rajajinagar                                         Mahalakshmi\n",
      "Ruthu             313            25             10             10                5  Jayaprakash Nagar                                   Jayanagar\n",
      "Sneha             320            40             40             10              -10  Nadaprabhu Kempegowda Station, Majestic             Hoodi\n",
      "Sneha             325            30             15             10                5  Nadaprabhu Kempegowda Station, Majestic             Magadi Road\n",
      "Sneha             340            20              5             15                0  Dasarahalli                                         Sandal Soap Factory\n",
      "Tulasi            392            30             20             15               -5  Jayaprakash Nagar                                   Krishna Rajendra Market\n",
      "Tulasi            395            20             10             10                0  Magadi Road                                         Kengeri Bus Terminal\n",
      "Tulasi            408            30             10             15                5  Sri Balagangadharanatha Swamiji Station, Hosahalli  Hopefarm Channasandra\n",
      "Tulasi            415            45             20             20                5  Konanakunte Cross                                   Jayanagar\n",
      "Tulasi            416            30             15             10                5  Yelachenahalli                                      Yeshwanthpur\n",
      "Tulasi            418            30             15             10                5  National College                                    Mahalakshmi\n",
      "Tulasi            428             5             15             20              -30  Nadaprabhu Kempegowda Station, Majestic             Srirampura\n",
      "Tulasi            434            30             20              5                5  Rashtreeya Vidyalaya Road                           Lalbagh\n",
      "Vasundhara N      437            45             20             20                5  Nagasandra                                          Peenya Industry\n",
      "Vasundhara N      453            30             15             10                5  Nagasandra                                          Peenya Industry\n",
      "Vasundhara N      456            25              5             20                0  Goraguntepalya                                      Mantri Square Sampige Road\n",
      "Vasundhara N      468            20              5             10                5  Nadaprabhu Kempegowda Station, Majestic             Attiguppe\n",
      "Vasundhara N      487            20              5             10                5  Nagasandra                                          Yeshwanthpur\n"
     ]
    }
   ],
   "source": [
    "from tabulate import tabulate\n",
    "\n",
    "output_rows = []\n",
    "\n",
    "total_10b_11b = df['10a'] + df['11a']\n",
    "df['9'] = pd.to_numeric(df['9'], errors='coerce')\n",
    "\n",
    "# Create a list of tuples containing the relevant information\n",
    "for index, value in df.iterrows():\n",
    "    if total_10b_11b[index] >= value['9'] - 5:\n",
    "        output_rows.append([\n",
    "            value['1'],   # Intern\n",
    "            index,        # Index\n",
    "            value['9'],   # Total Time\n",
    "            value['10a'], # Access Time\n",
    "            value['11a'], # Egress Time\n",
    "            value['9']-value['10a']-value['11a'], #difference\n",
    "            value['2c'],  #Origin\n",
    "            value['2d'], #Destination\n",
    "        ])\n",
    "\n",
    "# Sort the list of tuples based on the enumerator name alphabetically\n",
    "output_rows.sort(key=lambda x: x[0])\n",
    "\n",
    "# Print the output as a table\n",
    "print(tabulate(output_rows, headers=[\"Intern\",\"Index\", \"Total Time\", \"Access Time\", \"Egress Time\",\"Time in metro\",\"Origin\",\"Destination\"]))\n"
   ]
  },
  {
   "cell_type": "markdown",
   "metadata": {},
   "source": [
    "### Sanity check for bicycle question"
   ]
  },
  {
   "cell_type": "code",
   "execution_count": 131,
   "metadata": {},
   "outputs": [],
   "source": [
    "for column in df.select_dtypes(include='object').columns:\n",
    "    if re.match(r'^12c\\([a-e]\\)$', column):\n",
    "        for index, value in df[column].items():\n",
    "            if value.count(',') > 1:\n",
    "                print(f\"Intern: {df.iloc[index]['1']}, Question: {column}, Index: {index}\")\n"
   ]
  }
 ],
 "metadata": {
  "kernelspec": {
   "display_name": "base",
   "language": "python",
   "name": "python3"
  },
  "language_info": {
   "codemirror_mode": {
    "name": "ipython",
    "version": 3
   },
   "file_extension": ".py",
   "mimetype": "text/x-python",
   "name": "python",
   "nbconvert_exporter": "python",
   "pygments_lexer": "ipython3",
   "version": "3.11.7"
  }
 },
 "nbformat": 4,
 "nbformat_minor": 2
}
