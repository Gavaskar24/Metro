{
 "cells": [
  {
   "cell_type": "code",
   "execution_count": 1,
   "metadata": {},
   "outputs": [],
   "source": [
    "import pandas as pd\n",
    "import numpy as np\n",
    "import matplotlib.pyplot as plt\n",
    "import seaborn as sns\n",
    "from wordcloud import WordCloud\n",
    "from datetime import datetime, date\n",
    "import re\n",
    "from IPython.display import display, HTML\n",
    "from tabulate import tabulate"
   ]
  },
  {
   "cell_type": "code",
   "execution_count": 2,
   "metadata": {},
   "outputs": [],
   "source": [
    "file_path='E:/Metro2/raw_data//'\n",
    "df=pd.read_csv(file_path+'Metro survey no 2 post-processed data Q12c and Q23 updated (17-05-2024 to 28-05-2023) 316 samples.csv')"
   ]
  },
  {
   "cell_type": "code",
   "execution_count": 3,
   "metadata": {},
   "outputs": [],
   "source": [
    "for column in df.select_dtypes(include='object').columns:\n",
    "    if re.match(r'^12c\\([a-e]\\)$', column):\n",
    "        df[column] = df[column].apply(lambda x: 'Will use for both trips' if ',' in x else x)\n",
    "    df[column] = df[column].str.replace(r'\\(.*\\)', '', regex=True)\n"
   ]
  },
  {
   "cell_type": "code",
   "execution_count": 4,
   "metadata": {},
   "outputs": [
    {
     "data": {
      "text/plain": [
       "array(['Anshu', 'Govardhan G ', 'HAMIM SADIQUE', 'HAMIM SADIQUE ',\n",
       "       'HariPrasad ', 'HariPrasad h ', 'Keerthi M ', 'Ruthu m', 'RUTHU m',\n",
       "       'Sneha', 'sneha', 'Sneha ', 'Tulasi', 'Tulasi ', 'Vasundhara N '],\n",
       "      dtype=object)"
      ]
     },
     "execution_count": 4,
     "metadata": {},
     "output_type": "execute_result"
    }
   ],
   "source": [
    "df['1'].unique()"
   ]
  },
  {
   "cell_type": "code",
   "execution_count": 18,
   "metadata": {},
   "outputs": [
    {
     "name": "stdout",
     "output_type": "stream",
     "text": [
      "['Anshu' 'Govardhan' 'HAMIM' 'HariPrasad' 'Keerthi M ' 'Ruthu' 'Sneha'\n",
      " 'Tulasi' 'Vasundhara N'] 303\n"
     ]
    }
   ],
   "source": [
    "name_dict = {'Tulasi ':'Tulasi', 'Vasundhara N ': 'Vasundhara N', 'Tulasi NS ':'Tulasi',\n",
    "        'Varad ':'varad', 'Varad Verma ':'varad', 'Varad Verm ':'varad',\n",
    "       'Varad. Verma ':'varad', 'Varad Verma':'varad', 'Varad verma':'varad','Sneha ':'Sneha',\n",
    "       'HAMIM SADIQUE ':'HAMIM SADIQUE','Gayathri Krija ':'Gayathri Krija','tulasi ':'Tulasi',\n",
    "       'Ruthu m':'Ruthu','Ruthu m ':'Ruthu','sneha':'Sneha','HariPrasad h':'HariPrasad','HARIPRASAD ':'HariPrasad',\n",
    "       'HariPrasad ':'HariPrasad','Hari Prasad ':'HariPrasad','RUTHU m':'Ruthu','HariPrasad h ':'HariPrasad'}\n",
    "\n",
    "# map column 1 names to the above name_dict\n",
    "df['1'] = df['1'].map(name_dict).fillna(df['1'])\n",
    "\n",
    "print(df['1'].unique(),df.shape[0])\n",
    "# print(\"Number of samples: \",df.shape[0],df['1'].unique())\n"
   ]
  },
  {
   "cell_type": "code",
   "execution_count": 19,
   "metadata": {},
   "outputs": [
    {
     "data": {
      "text/html": [
       "<h2>Number of instances where income is not collected</h0>"
      ],
      "text/plain": [
       "<IPython.core.display.HTML object>"
      ]
     },
     "metadata": {},
     "output_type": "display_data"
    },
    {
     "name": "stdout",
     "output_type": "stream",
     "text": [
      "+-----------+-------------+---------------+------------+\n",
      "|  Intern   | # Instances | Total samples | Percentage |\n",
      "+-----------+-------------+---------------+------------+\n",
      "| Govardhan |      1      |      10       |    10.0    |\n",
      "|   HAMIM   |      4      |       6       |   66.67    |\n",
      "|   Sneha   |      1      |      62       |    1.61    |\n",
      "+-----------+-------------+---------------+------------+\n"
     ]
    }
   ],
   "source": [
    "display(HTML(f\"<h2>Number of instances where income is not collected</h0>\"))\n",
    "# Filter rows where column '21' is NA\n",
    "filtered_df = df[df['21'].isna()]\n",
    "\n",
    "# Group by column '1' and count the instances where column '21' is NA\n",
    "result = filtered_df.groupby('1').size().reset_index(name='Count')\n",
    "\n",
    "# Calculate the total number of occurrences for each unique entry in column '1'\n",
    "total_counts = df.groupby('1').size().reset_index(name='Total')\n",
    "\n",
    "# Merge the total counts with the NA counts\n",
    "merged_df = pd.merge(result, total_counts, on='1')\n",
    "\n",
    "# Calculate the percentage of instances where column '21' is missing\n",
    "merged_df['Percentage'] = round((merged_df['Count'] / merged_df['Total']) * 100,2)\n",
    "\n",
    "# Customize column names\n",
    "merged_df.columns = ['Intern', '# Instances', 'Total samples', 'Percentage']\n",
    "\n",
    "# Set index to start from 1 for entries\n",
    "merged_df.index += 1\n",
    "\n",
    "# Convert DataFrame to tabular form\n",
    "table = tabulate(merged_df, headers='keys', tablefmt='pretty', showindex=False)\n",
    "\n",
    "# Print the table\n",
    "print(table)"
   ]
  },
  {
   "cell_type": "code",
   "execution_count": 20,
   "metadata": {},
   "outputs": [
    {
     "name": "stderr",
     "output_type": "stream",
     "text": [
      "C:\\Users\\PC\\AppData\\Local\\Temp\\ipykernel_153616\\3492201862.py:5: UserWarning: Could not infer format, so each element will be parsed individually, falling back to `dateutil`. To ensure parsing is consistent and as-expected, please specify a format.\n",
      "  df['Start time of survey']=pd.to_datetime(df['Start time of survey'])\n"
     ]
    }
   ],
   "source": [
    "df['Timestamp'] = pd.to_datetime(df['Timestamp'], format='%d-%m-%Y %H:%M')\n",
    "df['day'] = df['Timestamp'].dt.day\n",
    "df['date'] = df['Timestamp'].dt.strftime('%d-%m-%Y')\n",
    "df['Time stamp time'] = pd.to_datetime(df['Timestamp']).apply(lambda x: x.time())\n",
    "df['Start time of survey']=pd.to_datetime(df['Start time of survey'])\n",
    "df['Start time of survey'] = df['Start time of survey'].apply(lambda x: datetime.strftime(x, '%H:%M:%S'))\n"
   ]
  },
  {
   "cell_type": "code",
   "execution_count": 21,
   "metadata": {},
   "outputs": [
    {
     "data": {
      "text/html": [
       "<h2>Dates of survey done by each intern</h0>"
      ],
      "text/plain": [
       "<IPython.core.display.HTML object>"
      ]
     },
     "metadata": {},
     "output_type": "display_data"
    },
    {
     "name": "stdout",
     "output_type": "stream",
     "text": [
      "Anshu        (2) : 18-05-2024, 19-05-2024\n",
      "Govardhan    (1) : 20-05-2024\n",
      "HAMIM        (1) : 26-05-2024\n",
      "HariPrasad   (1) : 20-05-2024\n",
      "Keerthi M    (5) : 17-05-2024, 18-05-2024, 24-05-2024, 25-05-2024, 26-05-2024\n",
      "Ruthu        (5) : 17-05-2024, 18-05-2024, 20-05-2024, 25-05-2024, 26-05-2024\n",
      "Sneha        (5) : 17-05-2024, 20-05-2024, 24-05-2024, 25-05-2024, 27-05-2024\n",
      "Tulasi       (2) : 18-05-2024, 25-05-2024\n",
      "Vasundhara N (9) : 17-05-2024, 18-05-2024, 19-05-2024, 20-05-2024, 21-05-2024, 25-05-2024, 26-05-2024, 27-05-2024, 28-05-2024\n"
     ]
    }
   ],
   "source": [
    "display(HTML(f\"<h2>Dates of survey done by each intern</h0>\"))\n",
    "\n",
    "sorted_names = sorted(df['1'].unique())\n",
    "\n",
    "# Find the length of the longest name for uniform spacing\n",
    "max_name_length = max(len(name) for name in sorted_names)\n",
    "\n",
    "# Print the names and their corresponding unique dates with proper spacing\n",
    "for name in sorted_names:\n",
    "    unique_dates = sorted(df[df['1'] == name]['date'].unique())\n",
    "    dates_str = ', '.join(unique_dates)\n",
    "    count = len(unique_dates)\n",
    "    print(f\"{name:<{max_name_length}} ({count}) : {dates_str}\")"
   ]
  },
  {
   "cell_type": "code",
   "execution_count": 22,
   "metadata": {},
   "outputs": [
    {
     "data": {
      "image/png": "[encoded data removed]",
      "text/plain": [
       "<Figure size 2200x800 with 2 Axes>"
      ]
     },
     "metadata": {},
     "output_type": "display_data"
    }
   ],
   "source": [
    "plt.rcParams['font.family'] = 'Arial'\n",
    "f,ax=plt.subplots(1,2,figsize=(22,8))\n",
    "sns.countplot(x=df['1'],data=df,palette = 'dark',hue='17',saturation=0.95,ax=ax[0])\n",
    "ax[0].set_title('Interns data count',color='black',size=25)\n",
    "ax[0].legend()\n",
    "for container in ax[0].containers:\n",
    "    ax[0].bar_label(container,color='black',size=20)\n",
    "sns.countplot(x=df['1'],data=df,palette = 'colorblind',hue='18',saturation=0.95,ax=ax[1])\n",
    "ax[1].legend()\n",
    "for container in ax[1].containers:\n",
    "    ax[1].bar_label(container,color='black',size=15)   \n"
   ]
  },
  {
   "cell_type": "code",
   "execution_count": 23,
   "metadata": {},
   "outputs": [
    {
     "name": "stdout",
     "output_type": "stream",
     "text": [
      "              1                      3        date  count\n",
      "71   Keerthi M   M chinnaswamy stadium  18-05-2024      2\n",
      "91        Ruthu   Banshankarsi temple   17-05-2024      2\n",
      "92        Ruthu   Banshankarsi temple   18-05-2024      2\n",
      "94        Ruthu   Banshankarsi temple   25-05-2024      2\n",
      "117       Ruthu      National College   17-05-2024      2\n",
      "119       Ruthu      National College   20-05-2024      2\n",
      "120       Ruthu      National College   25-05-2024      2\n"
     ]
    }
   ],
   "source": [
    "# lets get the value count of each unique value of combination of column 3 and column date for each unique value of 1\n",
    "grouped = df.groupby(['1', '3', 'date']).size()\n",
    "\n",
    "# Reset the index to convert the Series back to a DataFrame\n",
    "result = grouped.reset_index(name='count')\n",
    "\n",
    "# Filter the results where count is greater than 3\n",
    "filtered_result = result[result['count'] > 1]\n",
    "\n",
    "print(filtered_result)"
   ]
  },
  {
   "cell_type": "code",
   "execution_count": 24,
   "metadata": {},
   "outputs": [
    {
     "data": {
      "text/plain": [
       "array(['If a segregated cycle track is provided. At traffic signals, no separate signal phase for bicycle movement.Additional cost Per Trip 3₹ .',\n",
       "       'If a marked cycle lane is provided. At traffic signals, no separate signal phase for bicycle movement.Additional cost Per Trip 1₹. ',\n",
       "       'Will not use',\n",
       "       'If a marked cycle lane is provided along with bicycle traffic signals. At traffic signals, there is a separate signal phase for bicycle movement.Additional cost Per Trip 2₹.  ',\n",
       "       'NA',\n",
       "       'If a segregated cycle track provided along with bicycle traffic signals. At traffic signals, there is a separate signal phase for bicycle movement.Additional cost Per Trip 4₹ . .                                                                                                                                                                     .',\n",
       "       'Current travelling conditions with no special cycling facility.Additional cost Per Trip 0₹. ಯಾವುದೇ ವಿಶೇಷ ಸೈಕ್ಲಿಂಗ್ ಸೌಲಭ್ಯವಿಲ್ಲದೆ ಪ್ರಸ್ತುತ ಪ್ರಯಾಣದ ಪರಿಸ್ಥಿತಿಗಳು. ಪ್ರತಿ ಪ್ರವಾಸಕ್ಕೆ ಹೆಚ್ಚುವರಿ ವೆಚ್ಚ 0₹'],\n",
       "      dtype=object)"
      ]
     },
     "execution_count": 24,
     "metadata": {},
     "output_type": "execute_result"
    }
   ],
   "source": [
    "df['23'].unique()"
   ]
  },
  {
   "cell_type": "code",
   "execution_count": 25,
   "metadata": {},
   "outputs": [],
   "source": [
    "parking_dict={'No, I will not use a bicycle. ':'Will not use',\n",
    "       'Current travelling conditions with no special cycling facility. Per Trip cost 0₹. Parking cost of 10₹ per day. ':'Current conditions',\n",
    "       'If a marked cycle lane is provided. Per Trip cost 1₹. Parking cost 10₹ per day. ':'Marked lane',\n",
    "       'Not Applicable- because neither of my trip end is home. ':'NA',\n",
    "       'If a marked cycle lane provided along with bicycle traffic signals is provided. Per Trip cost 2₹. Parking cost 10₹ per day. ':'Marked lane + signal',\n",
    "       'If a segregated cycle track is provided. Per Trip cost 3₹.. Parking cost 10₹ per day. ':'Segregated track',\n",
    "       'If a segregated cycle track with bicycle signal is provided. Per Trip cost 4₹. Parking cost 10₹ per day. ':'Segregated track + signal'}\n",
    "\n",
    "df['23']=df['23'].map(parking_dict).fillna(df['23'])"
   ]
  },
  {
   "cell_type": "code",
   "execution_count": 26,
   "metadata": {},
   "outputs": [
    {
     "data": {
      "text/plain": [
       "array(['If a segregated cycle track is provided. At traffic signals, no separate signal phase for bicycle movement.Additional cost Per Trip 3₹ .',\n",
       "       'If a marked cycle lane is provided. At traffic signals, no separate signal phase for bicycle movement.Additional cost Per Trip 1₹. ',\n",
       "       'Will not use',\n",
       "       'If a marked cycle lane is provided along with bicycle traffic signals. At traffic signals, there is a separate signal phase for bicycle movement.Additional cost Per Trip 2₹.  ',\n",
       "       'NA',\n",
       "       'If a segregated cycle track provided along with bicycle traffic signals. At traffic signals, there is a separate signal phase for bicycle movement.Additional cost Per Trip 4₹ . .                                                                                                                                                                     .',\n",
       "       'Current travelling conditions with no special cycling facility.Additional cost Per Trip 0₹. ಯಾವುದೇ ವಿಶೇಷ ಸೈಕ್ಲಿಂಗ್ ಸೌಲಭ್ಯವಿಲ್ಲದೆ ಪ್ರಸ್ತುತ ಪ್ರಯಾಣದ ಪರಿಸ್ಥಿತಿಗಳು. ಪ್ರತಿ ಪ್ರವಾಸಕ್ಕೆ ಹೆಚ್ಚುವರಿ ವೆಚ್ಚ 0₹'],\n",
       "      dtype=object)"
      ]
     },
     "execution_count": 26,
     "metadata": {},
     "output_type": "execute_result"
    }
   ],
   "source": [
    "df['23'].unique()"
   ]
  },
  {
   "cell_type": "code",
   "execution_count": 27,
   "metadata": {},
   "outputs": [
    {
     "data": {
      "text/html": [
       "<h2>Origin and destination both are not home and response to Q23 was recorded as willing to use their own bicycle</h2>"
      ],
      "text/plain": [
       "<IPython.core.display.HTML object>"
      ]
     },
     "metadata": {},
     "output_type": "display_data"
    }
   ],
   "source": [
    "display(HTML(f\"<h2>Origin and destination both are not home and response to Q23 was recorded as willing to use their own bicycle</h2>\"))"
   ]
  },
  {
   "cell_type": "code",
   "execution_count": 28,
   "metadata": {},
   "outputs": [
    {
     "name": "stdout",
     "output_type": "stream",
     "text": [
      "1\n",
      "Keerthi M       6\n",
      "Anshu           1\n",
      "Sneha           1\n",
      "Vasundhara N    1\n",
      "Name: count, dtype: int64\n"
     ]
    }
   ],
   "source": [
    "# lets get the count of number of instances for each unique value of column 1 where when column 4 and column 6 both are not equal to Home and also column 23 \n",
    "# is not equal to NA\n",
    "print(df[(df['4']!='Home ') & (df['6']!='Home ') & (df['23']!='NA')]['1'].value_counts())"
   ]
  },
  {
   "cell_type": "code",
   "execution_count": 29,
   "metadata": {},
   "outputs": [
    {
     "data": {
      "text/html": [
       "<h2>Check of qualification with age </h2>"
      ],
      "text/plain": [
       "<IPython.core.display.HTML object>"
      ]
     },
     "metadata": {},
     "output_type": "display_data"
    }
   ],
   "source": [
    "display(HTML(f\"<h2>Check of qualification with age </h2>\"))   "
   ]
  },
  {
   "cell_type": "code",
   "execution_count": 31,
   "metadata": {},
   "outputs": [
    {
     "name": "stdout",
     "output_type": "stream",
     "text": [
      "19          Trade/Diploma Certificate   Postgraduate   Graduate   Doctorate   < 10th Std.   12th Std.   10th Std. \n",
      "18                                                                                                                \n",
      "18-25 yrs                          6.0            0.0       87.0         0.0           0.0         6.0         0.0\n",
      "26-35 yrs                          7.0            7.0       78.0         3.0           0.0        12.0         2.0\n",
      "36-45 yrs                         10.0            4.0       33.0         0.0           0.0        20.0         5.0\n",
      "46-60 yrs                          2.0            0.0        5.0         0.0           1.0         7.0         2.0\n",
      "> 60 yrs                           0.0            0.0        2.0         0.0           1.0         2.0         1.0\n"
     ]
    }
   ],
   "source": [
    "# lets see the value counts of each value in column 19 for each unique entry of column 18\n",
    "\n",
    "\n",
    "grouped_value_counts = df.groupby(['18', '19']).size()\n",
    "\n",
    "result = grouped_value_counts.reset_index(name='count')\n",
    "\n",
    "# Rename columns for better readability\n",
    "result.columns = ['18', '19', 'count']\n",
    "\n",
    "# Display the final result with proper alignment\n",
    "final_result = result.pivot_table(index='18', columns='19', values='count', fill_value=0)\n",
    "\n",
    "# Sort the columns for better readability\n",
    "final_result = final_result.sort_index(axis=1, level=0, ascending=False)\n",
    "\n",
    "# Print the final result\n",
    "print(final_result.to_string(index=True))"
   ]
  },
  {
   "cell_type": "code",
   "execution_count": 32,
   "metadata": {},
   "outputs": [
    {
     "data": {
      "text/html": [
       "<h2>Age and occupation</h2>"
      ],
      "text/plain": [
       "<IPython.core.display.HTML object>"
      ]
     },
     "metadata": {},
     "output_type": "display_data"
    }
   ],
   "source": [
    "display(HTML(f\"<h2>Age and occupation</h2>\"))    "
   ]
  },
  {
   "cell_type": "code",
   "execution_count": 33,
   "metadata": {},
   "outputs": [
    {
     "data": {
      "text/plain": [
       "18          20                           \n",
       "18-25 yrs   Student                          87\n",
       "            Employed Private                 11\n",
       "            Unemployed/Retired/Homemaker      1\n",
       "26-35 yrs   Employed Private                 74\n",
       "            Unemployed/Retired/Homemaker     18\n",
       "            Business                          7\n",
       "            Student                           4\n",
       "            Employed Govt.                    4\n",
       "            Daily Wage                        2\n",
       "36-45 yrs   Employed Private                 37\n",
       "            Unemployed/Retired/Homemaker     23\n",
       "            Business                          6\n",
       "            Daily Wage                        3\n",
       "            Student                           2\n",
       "            Employed Govt.                    1\n",
       "46-60 yrs   Unemployed/Retired/Homemaker     10\n",
       "            Employed Private                  4\n",
       "            Business                          1\n",
       "            Daily Wage                        1\n",
       "            Employed Govt.                    1\n",
       "> 60 yrs    Unemployed/Retired/Homemaker      4\n",
       "            Employed Govt.                    2\n",
       "Name: count, dtype: int64"
      ]
     },
     "execution_count": 33,
     "metadata": {},
     "output_type": "execute_result"
    }
   ],
   "source": [
    "df.groupby('18')['20'].value_counts()"
   ]
  },
  {
   "cell_type": "code",
   "execution_count": 34,
   "metadata": {},
   "outputs": [
    {
     "data": {
      "text/html": [
       "<h2>Prints if the respondent reported as unemployed but his details such as age, OD are not consistent</h2>"
      ],
      "text/plain": [
       "<IPython.core.display.HTML object>"
      ]
     },
     "metadata": {},
     "output_type": "display_data"
    }
   ],
   "source": [
    "display(HTML(f\"<h2>Prints if the respondent reported as unemployed but his details such as age, OD are not consistent</h2>\"))"
   ]
  },
  {
   "cell_type": "code",
   "execution_count": 35,
   "metadata": {},
   "outputs": [
    {
     "data": {
      "text/html": [
       "<div>\n",
       "<style scoped>\n",
       "    .dataframe tbody tr th:only-of-type {\n",
       "        vertical-align: middle;\n",
       "    }\n",
       "\n",
       "    .dataframe tbody tr th {\n",
       "        vertical-align: top;\n",
       "    }\n",
       "\n",
       "    .dataframe thead th {\n",
       "        text-align: right;\n",
       "    }\n",
       "</style>\n",
       "<table border=\"1\" class=\"dataframe\">\n",
       "  <thead>\n",
       "    <tr style=\"text-align: right;\">\n",
       "      <th></th>\n",
       "      <th>1</th>\n",
       "      <th>Timestamp</th>\n",
       "    </tr>\n",
       "  </thead>\n",
       "  <tbody>\n",
       "  </tbody>\n",
       "</table>\n",
       "</div>"
      ],
      "text/plain": [
       "Empty DataFrame\n",
       "Columns: [1, Timestamp]\n",
       "Index: []"
      ]
     },
     "execution_count": 35,
     "metadata": {},
     "output_type": "execute_result"
    }
   ],
   "source": [
    "df['20'].unique()\n",
    "\n",
    "# for each entry of column 20 with 'Unemployed/Retired/Homemaker ' get the column 1 and column Timestamp if column 18 is not >60 yrs or 46-60 yrs,\n",
    "#  and column 4 is work and column 6 is work\n",
    "df[(df['20']=='Unemployed/Retired/Homemaker ') & (df['18']!='>60 yrs') & (df['18']!='46-60 yrs') & ((df['4']=='Work ') | (df['6']=='Work '))][['1','Timestamp']]\n",
    "\n",
    "# df[df['20']=='Unemployed/Retired/Homemaker '][['18','17','4','6']]"
   ]
  },
  {
   "cell_type": "code",
   "execution_count": 36,
   "metadata": {},
   "outputs": [
    {
     "data": {
      "text/plain": [
       "array(['National College ', 'Peenya industrial area ', 'KR market ',\n",
       "       'Dayanada Sagar college ',\n",
       "       'Jayanagar 6 th block near ragigudda arch', 'Balepet',\n",
       "       'Kallahasthi nagar', 'Dr raj kumar circle ', 'Mes college ',\n",
       "       'Saraki nagar', 'Kotnur'], dtype=object)"
      ]
     },
     "execution_count": 36,
     "metadata": {},
     "output_type": "execute_result"
    }
   ],
   "source": [
    "df[df['1']=='HariPrasad']['5'].unique()"
   ]
  },
  {
   "cell_type": "code",
   "execution_count": 37,
   "metadata": {},
   "outputs": [
    {
     "data": {
      "text/html": [
       "<h2>Sanity check for total time</h2>"
      ],
      "text/plain": [
       "<IPython.core.display.HTML object>"
      ]
     },
     "metadata": {},
     "output_type": "display_data"
    }
   ],
   "source": [
    "display(HTML(f\"<h2>Sanity check for total time</h2>\"))"
   ]
  },
  {
   "cell_type": "code",
   "execution_count": 38,
   "metadata": {},
   "outputs": [
    {
     "name": "stdout",
     "output_type": "stream",
     "text": [
      "Intern        Index    Total Time    Access Time    Egress Time    Time in metro  Origin                                   Destination\n",
      "----------  -------  ------------  -------------  -------------  ---------------  ---------------------------------------  -----------------------\n",
      "Anshu            18            15             10              5                0  Magadi Road                              Vijayanagar\n",
      "Govardhan        31            15             15             10              -10  Krishna Rajendra Market                  Rajajinagar\n",
      "Govardhan        39            15             10             10               -5  Silk Institute                           Jayaprakash Nagar\n",
      "HariPrasad       48            10             10             10              -10  Peenya Industry                          Nagasandra\n",
      "HariPrasad       49            25             15             15               -5  Krishna Rajendra Market                  Yelachenahalli\n",
      "HariPrasad       50            10             15             10              -15  Silk Institute                           Konanakunte Cross\n",
      "HariPrasad       52            25             15             10                0  Nadaprabhu Kempegowda Station, Majestic  Jalahalli\n",
      "HariPrasad       57            20             15             15              -10  Doddakallasandra                         Krishna Rajendra Market\n"
     ]
    }
   ],
   "source": [
    "from tabulate import tabulate\n",
    "\n",
    "output_rows = []\n",
    "\n",
    "total_10b_11b = df['10a'] + df['11a']\n",
    "df['9'] = pd.to_numeric(df['9'], errors='coerce')\n",
    "\n",
    "# Create a list of tuples containing the relevant information\n",
    "for index, value in df.iterrows():\n",
    "    if total_10b_11b[index] >= value['9']:\n",
    "        output_rows.append([\n",
    "            value['1'],   # Intern\n",
    "            index,        # Index\n",
    "            value['9'],   # Total Time\n",
    "            value['10a'], # Access Time\n",
    "            value['11a'], # Egress Time\n",
    "            value['9']-value['10a']-value['11a'], #difference\n",
    "            value['2c'],  #Origin\n",
    "            value['2d'], #Destination\n",
    "        ])\n",
    "\n",
    "# Sort the list of tuples based on the enumerator name alphabetically\n",
    "output_rows.sort(key=lambda x: x[0])\n",
    "\n",
    "# Print the output as a table\n",
    "print(tabulate(output_rows, headers=[\"Intern\",\"Index\", \"Total Time\", \"Access Time\", \"Egress Time\",\"Time in metro\",\"Origin\",\"Destination\"]))\n"
   ]
  },
  {
   "cell_type": "markdown",
   "metadata": {},
   "source": [
    "### Sanity check for bicycle question"
   ]
  },
  {
   "cell_type": "code",
   "execution_count": 39,
   "metadata": {},
   "outputs": [],
   "source": [
    "for column in df.select_dtypes(include='object').columns:\n",
    "    if re.match(r'^12c\\([a-e]\\)$', column):\n",
    "        for index, value in df[column].items():\n",
    "            if value.count(',') > 1:\n",
    "                print(f\"Intern: {df.iloc[index]['1']}, Question: {column}, Index: {index}\")\n"
   ]
  }
 ],
 "metadata": {
  "kernelspec": {
   "display_name": "base",
   "language": "python",
   "name": "python3"
  },
  "language_info": {
   "codemirror_mode": {
    "name": "ipython",
    "version": 3
   },
   "file_extension": ".py",
   "mimetype": "text/x-python",
   "name": "python",
   "nbconvert_exporter": "python",
   "pygments_lexer": "ipython3",
   "version": "3.11.7"
  }
 },
 "nbformat": 4,
 "nbformat_minor": 2
}
