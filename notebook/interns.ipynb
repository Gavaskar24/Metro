{
 "cells": [
  {
   "cell_type": "code",
   "execution_count": 294,
   "metadata": {},
   "outputs": [],
   "source": [
    "import pandas as pd\n",
    "import numpy as np\n",
    "import matplotlib.pyplot as plt\n",
    "import seaborn as sns\n",
    "from wordcloud import WordCloud\n",
    "from datetime import datetime, date\n",
    "import re\n",
    "from IPython.display import display, HTML\n",
    "from tabulate import tabulate"
   ]
  },
  {
   "cell_type": "code",
   "execution_count": 295,
   "metadata": {},
   "outputs": [],
   "source": [
    "file_path='E:/Metro2/raw_data//'\n",
    "df=pd.read_csv(file_path+'Data.csv')"
   ]
  },
  {
   "cell_type": "code",
   "execution_count": 296,
   "metadata": {},
   "outputs": [],
   "source": [
    "for column in df.select_dtypes(include='object').columns:\n",
    "    if re.match(r'^12c\\([a-e]\\)$', column):\n",
    "        df[column] = df[column].apply(lambda x: 'Will use for both trips' if ',' in x else x)\n",
    "    df[column] = df[column].str.replace(r'\\(.*\\)', '', regex=True)\n"
   ]
  },
  {
   "cell_type": "code",
   "execution_count": 297,
   "metadata": {},
   "outputs": [
    {
     "data": {
      "text/plain": [
       "array(['Tulasi ', 'Vasundhara N ', 'Vasundhara N', 'Tulasi NS ', 'Tulasi',\n",
       "       'Keerthi M ', 'Sneha', 'Sneha ', 'Ruthu', 'Ruthu m', 'Ruthu m ',\n",
       "       'HAMIM SADIQUE', 'HAMIM SADIQUE ', 'tulasi ', 'Gayathri Krija ',\n",
       "       'Anshu', 'Gayathri Krija', 'sneha', 'HARIPRASAD ', 'Govardhan G ',\n",
       "       'Hari Prasad ', 'HariPrasad h', 'HariPrasad ', 'HariPrasad h '],\n",
       "      dtype=object)"
      ]
     },
     "execution_count": 297,
     "metadata": {},
     "output_type": "execute_result"
    }
   ],
   "source": [
    "df['1'].unique()"
   ]
  },
  {
   "cell_type": "code",
   "execution_count": 298,
   "metadata": {},
   "outputs": [
    {
     "name": "stdout",
     "output_type": "stream",
     "text": [
      "['Tulasi' 'Vasundhara N' 'Keerthi M ' 'Sneha' 'Ruthu' 'HAMIM' 'Gayathri'\n",
      " 'Anshu' 'HariPrasad' 'Govardhan'] 662\n"
     ]
    }
   ],
   "source": [
    "name_dict = {'Tulasi ':'Tulasi', 'Vasundhara N ': 'Vasundhara N', 'Tulasi NS ':'Tulasi',\n",
    "        'Varad ':'varad', 'Varad Verma ':'varad', 'Varad Verm ':'varad',\n",
    "       'Varad. Verma ':'varad', 'Varad Verma':'varad', 'Varad verma':'varad','Sneha ':'Sneha',\n",
    "       'HAMIM SADIQUE ':'HAMIM','HAMIM SADIQUE':'HAMIM','Gayathri Krija ':'Gayathri','tulasi ':'Tulasi',\n",
    "       'Ruthu m':'Ruthu','Ruthu m ':'Ruthu','sneha':'Sneha','HariPrasad h':'HariPrasad','Hari Prasad ':'HariPrasad','HARIPRASAD ':'HariPrasad',\n",
    "       'HariPrasad ':'HariPrasad','Govardhan G ':'Govardhan','Gayathri Krija':'Gayathri','HariPrasad h ':'HariPrasad'}\n",
    "\n",
    "# map column 1 names to the above name_dict\n",
    "df['1'] = df['1'].map(name_dict).fillna(df['1'])\n",
    "\n",
    "print(df['1'].unique(),df.shape[0])"
   ]
  },
  {
   "cell_type": "code",
   "execution_count": 299,
   "metadata": {},
   "outputs": [
    {
     "data": {
      "text/html": [
       "<h2>Number of instances where income is not collected</h0>"
      ],
      "text/plain": [
       "<IPython.core.display.HTML object>"
      ]
     },
     "metadata": {},
     "output_type": "display_data"
    },
    {
     "name": "stdout",
     "output_type": "stream",
     "text": [
      "+--------------+-------------+---------------+------------+\n",
      "|    Intern    | # Instances | Total samples | Percentage |\n",
      "+--------------+-------------+---------------+------------+\n",
      "|    Anshu     |      1      |      64       |    1.56    |\n",
      "|   Gayathri   |      3      |      39       |    7.69    |\n",
      "|  Govardhan   |      2      |      22       |    9.09    |\n",
      "|    HAMIM     |     22      |      32       |   68.75    |\n",
      "|    Ruthu     |      2      |      63       |    3.17    |\n",
      "|    Sneha     |      1      |      76       |    1.32    |\n",
      "| Vasundhara N |     86      |      169      |   50.89    |\n",
      "+--------------+-------------+---------------+------------+\n"
     ]
    }
   ],
   "source": [
    "display(HTML(f\"<h2>Number of instances where income is not collected</h0>\"))\n",
    "# Filter rows where column '21' is NA\n",
    "filtered_df = df[df['21'].isna()]\n",
    "\n",
    "# Group by column '1' and count the instances where column '21' is NA\n",
    "result = filtered_df.groupby('1').size().reset_index(name='Count')\n",
    "\n",
    "# Calculate the total number of occurrences for each unique entry in column '1'\n",
    "total_counts = df.groupby('1').size().reset_index(name='Total')\n",
    "\n",
    "# Merge the total counts with the NA counts\n",
    "merged_df = pd.merge(result, total_counts, on='1')\n",
    "\n",
    "# Calculate the percentage of instances where column '21' is missing\n",
    "merged_df['Percentage'] = round((merged_df['Count'] / merged_df['Total']) * 100,2)\n",
    "\n",
    "# Customize column names\n",
    "merged_df.columns = ['Intern', '# Instances', 'Total samples', 'Percentage']\n",
    "\n",
    "# Set index to start from 1 for entries\n",
    "merged_df.index += 1\n",
    "\n",
    "# Convert DataFrame to tabular form\n",
    "table = tabulate(merged_df, headers='keys', tablefmt='pretty', showindex=False)\n",
    "\n",
    "# Print the table\n",
    "print(table)"
   ]
  },
  {
   "cell_type": "code",
   "execution_count": 300,
   "metadata": {},
   "outputs": [
    {
     "name": "stderr",
     "output_type": "stream",
     "text": [
      "C:\\Users\\PC\\AppData\\Local\\Temp\\ipykernel_191828\\3492201862.py:5: UserWarning: Could not infer format, so each element will be parsed individually, falling back to `dateutil`. To ensure parsing is consistent and as-expected, please specify a format.\n",
      "  df['Start time of survey']=pd.to_datetime(df['Start time of survey'])\n"
     ]
    }
   ],
   "source": [
    "df['Timestamp'] = pd.to_datetime(df['Timestamp'], format='%d-%m-%Y %H:%M')\n",
    "df['day'] = df['Timestamp'].dt.day\n",
    "df['date'] = df['Timestamp'].dt.strftime('%d-%m-%Y')\n",
    "df['Time stamp time'] = pd.to_datetime(df['Timestamp']).apply(lambda x: x.time())\n",
    "df['Start time of survey']=pd.to_datetime(df['Start time of survey'])\n",
    "df['Start time of survey'] = df['Start time of survey'].apply(lambda x: datetime.strftime(x, '%H:%M:%S'))\n"
   ]
  },
  {
   "cell_type": "code",
   "execution_count": 301,
   "metadata": {},
   "outputs": [
    {
     "data": {
      "text/html": [
       "<h2>Dates of survey done by each intern</h0>"
      ],
      "text/plain": [
       "<IPython.core.display.HTML object>"
      ]
     },
     "metadata": {},
     "output_type": "display_data"
    },
    {
     "name": "stdout",
     "output_type": "stream",
     "text": [
      "Anshu        (4) : 06-05-2024, 07-05-2024, 18-05-2024, 19-05-2024\n",
      "Gayathri     (2) : 06-05-2024, 07-05-2024\n",
      "Govardhan    (3) : 08-05-2024, 09-05-2024, 20-05-2024\n",
      "HAMIM        (2) : 05-05-2024, 10-05-2024\n",
      "HariPrasad   (3) : 08-05-2024, 09-05-2024, 20-05-2024\n",
      "Keerthi M    (10) : 01-05-2024, 02-05-2024, 03-05-2024, 05-05-2024, 08-05-2024, 10-05-2024, 11-05-2024, 12-05-2024, 17-05-2024, 18-05-2024\n",
      "Ruthu        (6) : 05-05-2024, 08-05-2024, 10-05-2024, 17-05-2024, 18-05-2024, 20-05-2024\n",
      "Sneha        (6) : 02-05-2024, 03-05-2024, 07-05-2024, 08-05-2024, 17-05-2024, 20-05-2024\n",
      "Tulasi       (5) : 01-05-2024, 02-05-2024, 03-05-2024, 04-05-2024, 05-05-2024\n",
      "Vasundhara N (13) : 01-05-2024, 02-05-2024, 03-05-2024, 04-05-2024, 05-05-2024, 08-05-2024, 11-05-2024, 12-05-2024, 17-05-2024, 18-05-2024, 19-05-2024, 20-05-2024, 21-05-2024\n"
     ]
    }
   ],
   "source": [
    "display(HTML(f\"<h2>Dates of survey done by each intern</h0>\"))\n",
    "\n",
    "sorted_names = sorted(df['1'].unique())\n",
    "\n",
    "# Find the length of the longest name for uniform spacing\n",
    "max_name_length = max(len(name) for name in sorted_names)\n",
    "\n",
    "# Print the names and their corresponding unique dates with proper spacing\n",
    "for name in sorted_names:\n",
    "    unique_dates = sorted(df[df['1'] == name]['date'].unique())\n",
    "    dates_str = ', '.join(unique_dates)\n",
    "    count = len(unique_dates)\n",
    "    print(f\"{name:<{max_name_length}} ({count}) : {dates_str}\")"
   ]
  },
  {
   "cell_type": "code",
   "execution_count": 302,
   "metadata": {},
   "outputs": [
    {
     "data": {
      "image/png": "[encoded data removed]",
      "text/plain": [
       "<Figure size 2200x800 with 2 Axes>"
      ]
     },
     "metadata": {},
     "output_type": "display_data"
    }
   ],
   "source": [
    "plt.rcParams['font.family'] = 'Arial'\n",
    "f,ax=plt.subplots(1,2,figsize=(22,8))\n",
    "sns.countplot(x=df['1'],data=df,palette = 'dark',hue='17',saturation=0.95,ax=ax[0])\n",
    "ax[0].set_title('Interns data count',color='black',size=25)\n",
    "ax[0].legend()\n",
    "for container in ax[0].containers:\n",
    "    ax[0].bar_label(container,color='black',size=20)\n",
    "sns.countplot(x=df['1'],data=df,palette = 'colorblind',hue='18',saturation=0.95,ax=ax[1])\n",
    "ax[1].legend()\n",
    "for container in ax[1].containers:\n",
    "    ax[1].bar_label(container,color='black',size=15)   \n"
   ]
  },
  {
   "cell_type": "code",
   "execution_count": 303,
   "metadata": {},
   "outputs": [
    {
     "name": "stdout",
     "output_type": "stream",
     "text": [
      "              1                                           3        date  count\n",
      "80     Gayathri                        Kengeri Bus terminal  07-05-2024      2\n",
      "127       HAMIM                                      560013  10-05-2024      2\n",
      "133       HAMIM                                      560062  05-05-2024      2\n",
      "134       HAMIM                                      560062  10-05-2024      2\n",
      "214  Keerthi M   Isckon temple west chord road Mahalakshmi   05-05-2024      2\n",
      "230  Keerthi M                        M chinnaswamy stadium  18-05-2024      2\n",
      "261  Keerthi M                   RV college of engineering   05-05-2024      2\n",
      "300       Ruthu                        Banshankarsi temple   17-05-2024      2\n",
      "301       Ruthu                        Banshankarsi temple   18-05-2024      2\n",
      "338       Ruthu                           National College   17-05-2024      2\n",
      "340       Ruthu                           National College   20-05-2024      2\n",
      "357       Sneha                          Banshankari temple  07-05-2024      2\n",
      "360       Sneha                                Basavanagar   02-05-2024      2\n",
      "363       Sneha                             Chikpete market  08-05-2024      2\n",
      "365       Sneha                            Deepanjali nagar  02-05-2024      2\n",
      "395       Sneha                       Rajajinagar 1st block  07-05-2024      2\n",
      "399       Sneha                             Seetharam palya  02-05-2024      2\n"
     ]
    }
   ],
   "source": [
    "# lets get the value count of each unique value of combination of column 3 and column date for each unique value of 1\n",
    "grouped = df.groupby(['1', '3', 'date']).size()\n",
    "\n",
    "# Reset the index to convert the Series back to a DataFrame\n",
    "result = grouped.reset_index(name='count')\n",
    "\n",
    "# Filter the results where count is greater than 3\n",
    "filtered_result = result[result['count'] > 1]\n",
    "\n",
    "print(filtered_result)"
   ]
  },
  {
   "cell_type": "code",
   "execution_count": 304,
   "metadata": {},
   "outputs": [
    {
     "data": {
      "text/plain": [
       "array(['No, I will not use a bicycle. ',\n",
       "       'Current travelling conditions with no special cycling facility. Per Trip cost 0₹. Parking cost of 10₹ per day. ',\n",
       "       'If a marked cycle lane is provided. Per Trip cost 1₹. Parking cost 10₹ per day. ',\n",
       "       'Not Applicable- because neither of my trip end is home. ',\n",
       "       'If a marked cycle lane provided along with bicycle traffic signals is provided. Per Trip cost 2₹. Parking cost 10₹ per day. ',\n",
       "       'If a segregated cycle track is provided. Per Trip cost 3₹.. Parking cost 10₹ per day. ',\n",
       "       'If a segregated cycle track with bicycle signal is provided. Per Trip cost 4₹. Parking cost 10₹ per day. ',\n",
       "       'If a segregated cycle track provided along with bicycle traffic signals. At traffic signals, there is a separate signal phase for bicycle movement.Additional cost Per Trip 4₹ . .                                                                                                                                                                     .',\n",
       "       'If a segregated cycle track is provided. At traffic signals, no separate signal phase for bicycle movement.Additional cost Per Trip 3₹ .',\n",
       "       'If a marked cycle lane is provided along with bicycle traffic signals. At traffic signals, there is a separate signal phase for bicycle movement.Additional cost Per Trip 2₹.  ',\n",
       "       'If a marked cycle lane is provided. At traffic signals, no separate signal phase for bicycle movement.Additional cost Per Trip 1₹. ',\n",
       "       'Current travelling conditions with no special cycling facility.Additional cost Per Trip 0₹. ಯಾವುದೇ ವಿಶೇಷ ಸೈಕ್ಲಿಂಗ್ ಸೌಲಭ್ಯವಿಲ್ಲದೆ ಪ್ರಸ್ತುತ ಪ್ರಯಾಣದ ಪರಿಸ್ಥಿತಿಗಳು. ಪ್ರತಿ ಪ್ರವಾಸಕ್ಕೆ ಹೆಚ್ಚುವರಿ ವೆಚ್ಚ 0₹'],\n",
       "      dtype=object)"
      ]
     },
     "execution_count": 304,
     "metadata": {},
     "output_type": "execute_result"
    }
   ],
   "source": [
    "df['23'].unique()"
   ]
  },
  {
   "cell_type": "code",
   "execution_count": 305,
   "metadata": {},
   "outputs": [],
   "source": [
    "parking_dict={'No, I will not use a bicycle. ':'Will not use',\n",
    "       'Current travelling conditions with no special cycling facility. Per Trip cost 0₹. Parking cost of 10₹ per day. ':'Current conditions',\n",
    "       'If a marked cycle lane is provided. Per Trip cost 1₹. Parking cost 10₹ per day. ':'Marked lane',\n",
    "       'Not Applicable- because neither of my trip end is home. ':'NA',\n",
    "       'If a marked cycle lane provided along with bicycle traffic signals is provided. Per Trip cost 2₹. Parking cost 10₹ per day. ':'Marked lane + signal',\n",
    "       'If a segregated cycle track is provided. Per Trip cost 3₹.. Parking cost 10₹ per day. ':'Segregated track',\n",
    "       'If a segregated cycle track with bicycle signal is provided. Per Trip cost 4₹. Parking cost 10₹ per day. ':'Segregated track + signal'}\n",
    "\n",
    "df['23']=df['23'].map(parking_dict).fillna(df['23'])"
   ]
  },
  {
   "cell_type": "code",
   "execution_count": 306,
   "metadata": {},
   "outputs": [
    {
     "data": {
      "text/plain": [
       "array(['Will not use', 'Current conditions', 'Marked lane', 'NA',\n",
       "       'Marked lane + signal', 'Segregated track',\n",
       "       'Segregated track + signal',\n",
       "       'If a segregated cycle track provided along with bicycle traffic signals. At traffic signals, there is a separate signal phase for bicycle movement.Additional cost Per Trip 4₹ . .                                                                                                                                                                     .',\n",
       "       'If a segregated cycle track is provided. At traffic signals, no separate signal phase for bicycle movement.Additional cost Per Trip 3₹ .',\n",
       "       'If a marked cycle lane is provided along with bicycle traffic signals. At traffic signals, there is a separate signal phase for bicycle movement.Additional cost Per Trip 2₹.  ',\n",
       "       'If a marked cycle lane is provided. At traffic signals, no separate signal phase for bicycle movement.Additional cost Per Trip 1₹. ',\n",
       "       'Current travelling conditions with no special cycling facility.Additional cost Per Trip 0₹. ಯಾವುದೇ ವಿಶೇಷ ಸೈಕ್ಲಿಂಗ್ ಸೌಲಭ್ಯವಿಲ್ಲದೆ ಪ್ರಸ್ತುತ ಪ್ರಯಾಣದ ಪರಿಸ್ಥಿತಿಗಳು. ಪ್ರತಿ ಪ್ರವಾಸಕ್ಕೆ ಹೆಚ್ಚುವರಿ ವೆಚ್ಚ 0₹'],\n",
       "      dtype=object)"
      ]
     },
     "execution_count": 306,
     "metadata": {},
     "output_type": "execute_result"
    }
   ],
   "source": [
    "df['23'].unique()"
   ]
  },
  {
   "cell_type": "code",
   "execution_count": 307,
   "metadata": {},
   "outputs": [
    {
     "data": {
      "text/html": [
       "<h2>Origin and destination both are not home and response to Q23 was recorded as willing to use their own bicycle</h2>"
      ],
      "text/plain": [
       "<IPython.core.display.HTML object>"
      ]
     },
     "metadata": {},
     "output_type": "display_data"
    }
   ],
   "source": [
    "display(HTML(f\"<h2>Origin and destination both are not home and response to Q23 was recorded as willing to use their own bicycle</h2>\"))"
   ]
  },
  {
   "cell_type": "code",
   "execution_count": 308,
   "metadata": {},
   "outputs": [
    {
     "name": "stdout",
     "output_type": "stream",
     "text": [
      "1\n",
      "Keerthi M       18\n",
      "Anshu            6\n",
      "HAMIM            5\n",
      "Govardhan        3\n",
      "Vasundhara N     2\n",
      "Tulasi           2\n",
      "Gayathri         2\n",
      "Sneha            1\n",
      "Name: count, dtype: int64\n"
     ]
    }
   ],
   "source": [
    "# lets get the count of number of instances for each unique value of column 1 where when column 4 and column 6 both are not equal to Home and also column 23 \n",
    "# is not equal to NA\n",
    "print(df[(df['4']!='Home ') & (df['6']!='Home ') & (df['23']!='NA')]['1'].value_counts())"
   ]
  },
  {
   "cell_type": "code",
   "execution_count": 309,
   "metadata": {},
   "outputs": [
    {
     "data": {
      "text/html": [
       "<h2>Check of qualification with age </h2>"
      ],
      "text/plain": [
       "<IPython.core.display.HTML object>"
      ]
     },
     "metadata": {},
     "output_type": "display_data"
    }
   ],
   "source": [
    "display(HTML(f\"<h2>Check of qualification with age </h2>\"))   "
   ]
  },
  {
   "cell_type": "code",
   "execution_count": 321,
   "metadata": {},
   "outputs": [
    {
     "name": "stdout",
     "output_type": "stream",
     "text": [
      "19          Trade/Diploma Certificate   Postgraduate   Graduate   Doctorate   < 10th Std.   12th Std.   10th Std. \n",
      "18                                                                                                                \n",
      "18-25 yrs                         16.0            8.0      147.0         0.0           0.0        25.0         3.0\n",
      "26-35 yrs                         20.0           22.0      164.0         3.0           2.0        19.0         8.0\n",
      "36-45 yrs                         13.0           17.0       56.0         1.0           4.0        32.0        13.0\n",
      "46-60 yrs                          4.0            5.0       18.0         2.0           3.0        30.0         7.0\n",
      "> 60 yrs                           0.0            1.0        8.0         0.0           2.0         6.0         3.0\n"
     ]
    }
   ],
   "source": [
    "# lets see the value counts of each value in column 19 for each unique entry of column 18\n",
    "df.groupby('18')['19'].value_counts()\n",
    "\n",
    "result = grouped_value_counts.reset_index(name='count')\n",
    "\n",
    "# Rename columns for better readability\n",
    "result.columns = ['18', '19', 'count']\n",
    "\n",
    "# Display the final result with proper alignment\n",
    "final_result = result.pivot_table(index='18', columns='19', values='count', fill_value=0)\n",
    "\n",
    "# Sort the columns for better readability\n",
    "final_result = final_result.sort_index(axis=1, level=0, ascending=False)\n",
    "\n",
    "# Print the final result\n",
    "print(final_result.to_string(index=True))"
   ]
  },
  {
   "cell_type": "code",
   "execution_count": 311,
   "metadata": {},
   "outputs": [
    {
     "data": {
      "text/html": [
       "<h2>Age and occupation</h2>"
      ],
      "text/plain": [
       "<IPython.core.display.HTML object>"
      ]
     },
     "metadata": {},
     "output_type": "display_data"
    }
   ],
   "source": [
    "display(HTML(f\"<h2>Age and occupation</h2>\"))    "
   ]
  },
  {
   "cell_type": "code",
   "execution_count": 312,
   "metadata": {},
   "outputs": [
    {
     "data": {
      "text/plain": [
       "18          20                           \n",
       "18-25 yrs   Student                          157\n",
       "            Employed Private                  39\n",
       "            Daily Wage                         1\n",
       "            Unemployed/Retired/Homemaker       1\n",
       "            Business                           1\n",
       "26-35 yrs   Employed Private                 166\n",
       "            Unemployed/Retired/Homemaker      37\n",
       "            Student                           11\n",
       "            Business                          10\n",
       "            Employed Govt.                    10\n",
       "            Daily Wage                         4\n",
       "36-45 yrs   Employed Private                  63\n",
       "            Unemployed/Retired/Homemaker      49\n",
       "            Business                          11\n",
       "            Employed Govt.                     6\n",
       "            Daily Wage                         6\n",
       "            Student                            1\n",
       "46-60 yrs   Unemployed/Retired/Homemaker      35\n",
       "            Employed Private                  17\n",
       "            Employed Govt.                    12\n",
       "            Business                           3\n",
       "            Daily Wage                         2\n",
       "> 60 yrs    Unemployed/Retired/Homemaker      15\n",
       "            Employed Govt.                     3\n",
       "            Business                           1\n",
       "            Employed Private                   1\n",
       "Name: count, dtype: int64"
      ]
     },
     "execution_count": 312,
     "metadata": {},
     "output_type": "execute_result"
    }
   ],
   "source": [
    "df.groupby('18')['20'].value_counts()"
   ]
  },
  {
   "cell_type": "code",
   "execution_count": 313,
   "metadata": {},
   "outputs": [
    {
     "data": {
      "text/html": [
       "<h2>Prints if the respondent reported as unemployed but his details such as age, OD are not consistent</h2>"
      ],
      "text/plain": [
       "<IPython.core.display.HTML object>"
      ]
     },
     "metadata": {},
     "output_type": "display_data"
    }
   ],
   "source": [
    "display(HTML(f\"<h2>Prints if the respondent reported as unemployed but his details such as age, OD are not consistent</h2>\"))"
   ]
  },
  {
   "cell_type": "code",
   "execution_count": 314,
   "metadata": {},
   "outputs": [
    {
     "data": {
      "text/html": [
       "<div>\n",
       "<style scoped>\n",
       "    .dataframe tbody tr th:only-of-type {\n",
       "        vertical-align: middle;\n",
       "    }\n",
       "\n",
       "    .dataframe tbody tr th {\n",
       "        vertical-align: top;\n",
       "    }\n",
       "\n",
       "    .dataframe thead th {\n",
       "        text-align: right;\n",
       "    }\n",
       "</style>\n",
       "<table border=\"1\" class=\"dataframe\">\n",
       "  <thead>\n",
       "    <tr style=\"text-align: right;\">\n",
       "      <th></th>\n",
       "      <th>1</th>\n",
       "      <th>Timestamp</th>\n",
       "    </tr>\n",
       "  </thead>\n",
       "  <tbody>\n",
       "  </tbody>\n",
       "</table>\n",
       "</div>"
      ],
      "text/plain": [
       "Empty DataFrame\n",
       "Columns: [1, Timestamp]\n",
       "Index: []"
      ]
     },
     "execution_count": 314,
     "metadata": {},
     "output_type": "execute_result"
    }
   ],
   "source": [
    "df['20'].unique()\n",
    "\n",
    "# for each entry of column 20 with 'Unemployed/Retired/Homemaker ' get the column 1 and column Timestamp if column 18 is not >60 yrs or 46-60 yrs,\n",
    "#  and column 4 is work and column 6 is work\n",
    "df[(df['20']=='Unemployed/Retired/Homemaker ') & (df['18']!='>60 yrs') & (df['18']!='46-60 yrs') & ((df['4']=='Work ') | (df['6']=='Work '))][['1','Timestamp']]\n",
    "\n",
    "# df[df['20']=='Unemployed/Retired/Homemaker '][['18','17','4','6']]"
   ]
  },
  {
   "cell_type": "code",
   "execution_count": 315,
   "metadata": {},
   "outputs": [
    {
     "data": {
      "text/plain": [
       "array(['Community institute of management, jayanagar ', 'Ulall',\n",
       "       'Sirike bus bus Stop', 'Malleswaram ',\n",
       "       'Ashok Nagar police station ', 'Mejestrict court ', 'Acs college ',\n",
       "       'Bidadi', 'MC layout ', 'Ramurthy nagar', 'ITPL', 'Rohan avrithi',\n",
       "       'Near byapnalli ground ', 'Balepet', 'National College ',\n",
       "       'Peenya industrial area ', 'Kallahasthi nagar',\n",
       "       'Dr raj kumar circle ', 'Mes college ', 'KR market ',\n",
       "       'Saraki nagar', 'Dayanada Sagar college ', 'Kotnur',\n",
       "       'Jayanagar 6 th block near ragigudda arch'], dtype=object)"
      ]
     },
     "execution_count": 315,
     "metadata": {},
     "output_type": "execute_result"
    }
   ],
   "source": [
    "df[df['1']=='HariPrasad']['5'].unique()"
   ]
  },
  {
   "cell_type": "code",
   "execution_count": 316,
   "metadata": {},
   "outputs": [
    {
     "data": {
      "text/html": [
       "<h2>Sanity check for total time</h2>"
      ],
      "text/plain": [
       "<IPython.core.display.HTML object>"
      ]
     },
     "metadata": {},
     "output_type": "display_data"
    }
   ],
   "source": [
    "display(HTML(f\"<h2>Sanity check for total time</h2>\"))"
   ]
  },
  {
   "cell_type": "code",
   "execution_count": 317,
   "metadata": {},
   "outputs": [
    {
     "name": "stdout",
     "output_type": "stream",
     "text": [
      "Intern          Index    Total Time    Access Time    Egress Time    Time in metro  Origin                                              Destination\n",
      "------------  -------  ------------  -------------  -------------  ---------------  --------------------------------------------------  -------------------------------------------\n",
      "Anshu             584            15             10              5                0  Magadi Road                                         Vijayanagar\n",
      "Gayathri          239            30             10             20                0  Sri Balagangadharanatha Swamiji Station, Hosahalli  Pantharapalya - Nayandahalli\n",
      "Gayathri          303            20             15              5                0  Rajarajeshwari Nagar                                Kengeri Bus Terminal\n",
      "Govardhan         390            20             10             15               -5  Hoodi                                               Indiranagar\n",
      "Govardhan         629            15             15             10              -10  Krishna Rajendra Market                             Rajajinagar\n",
      "Govardhan         651            15             10             10               -5  Silk Institute                                      Jayaprakash Nagar\n",
      "HAMIM             219            25              5             25               -5  Nagasandra                                          Krantivira Sangolli Rayanna Railway Station\n",
      "HariPrasad        379            20             30             10              -20  Magadi Road                                         Mysore Road\n",
      "HariPrasad        386            60             60              5               -5  Kengeri Bus Terminal                                Jalahalli\n",
      "HariPrasad        389            20             20             15              -15  Krishnarajapuram - K.R.Puram                        Kadugodi Tree Park\n",
      "HariPrasad        630            25             15             10                0  Nadaprabhu Kempegowda Station, Majestic             Jalahalli\n",
      "HariPrasad        635            10             10             10              -10  Peenya Industry                                     Nagasandra\n",
      "HariPrasad        646            25             15             15               -5  Krishna Rajendra Market                             Yelachenahalli\n",
      "HariPrasad        650            10             15             10              -15  Silk Institute                                      Konanakunte Cross\n",
      "HariPrasad        653            20             15             15              -10  Doddakallasandra                                    Krishna Rajendra Market\n",
      "Keerthi M          13             5              5             10              -10  Hoodi                                               Krishnarajapuram - K.R.Puram\n",
      "Sneha             101            40             40             10              -10  Nadaprabhu Kempegowda Station, Majestic             Hoodi\n",
      "Sneha             156            20              5             15                0  Dasarahalli                                         Sandal Soap Factory\n",
      "Tulasi             50            30             20             15               -5  Jayaprakash Nagar                                   Krishna Rajendra Market\n",
      "Tulasi             67            20             10             10                0  Magadi Road                                         Kengeri Bus Terminal\n",
      "Tulasi            161             5             15             20              -30  Nadaprabhu Kempegowda Station, Majestic             Srirampura\n",
      "Vasundhara N       55            25              5             20                0  Goraguntepalya                                      Mantri Square Sampige Road\n"
     ]
    }
   ],
   "source": [
    "from tabulate import tabulate\n",
    "\n",
    "output_rows = []\n",
    "\n",
    "total_10b_11b = df['10a'] + df['11a']\n",
    "df['9'] = pd.to_numeric(df['9'], errors='coerce')\n",
    "\n",
    "# Create a list of tuples containing the relevant information\n",
    "for index, value in df.iterrows():\n",
    "    if total_10b_11b[index] >= value['9']:\n",
    "        output_rows.append([\n",
    "            value['1'],   # Intern\n",
    "            index,        # Index\n",
    "            value['9'],   # Total Time\n",
    "            value['10a'], # Access Time\n",
    "            value['11a'], # Egress Time\n",
    "            value['9']-value['10a']-value['11a'], #difference\n",
    "            value['2c'],  #Origin\n",
    "            value['2d'], #Destination\n",
    "        ])\n",
    "\n",
    "# Sort the list of tuples based on the enumerator name alphabetically\n",
    "output_rows.sort(key=lambda x: x[0])\n",
    "\n",
    "# Print the output as a table\n",
    "print(tabulate(output_rows, headers=[\"Intern\",\"Index\", \"Total Time\", \"Access Time\", \"Egress Time\",\"Time in metro\",\"Origin\",\"Destination\"]))\n"
   ]
  },
  {
   "cell_type": "markdown",
   "metadata": {},
   "source": [
    "### Sanity check for bicycle question"
   ]
  },
  {
   "cell_type": "code",
   "execution_count": 318,
   "metadata": {},
   "outputs": [],
   "source": [
    "for column in df.select_dtypes(include='object').columns:\n",
    "    if re.match(r'^12c\\([a-e]\\)$', column):\n",
    "        for index, value in df[column].items():\n",
    "            if value.count(',') > 1:\n",
    "                print(f\"Intern: {df.iloc[index]['1']}, Question: {column}, Index: {index}\")\n"
   ]
  }
 ],
 "metadata": {
  "kernelspec": {
   "display_name": "base",
   "language": "python",
   "name": "python3"
  },
  "language_info": {
   "codemirror_mode": {
    "name": "ipython",
    "version": 3
   },
   "file_extension": ".py",
   "mimetype": "text/x-python",
   "name": "python",
   "nbconvert_exporter": "python",
   "pygments_lexer": "ipython3",
   "version": "3.11.7"
  }
 },
 "nbformat": 4,
 "nbformat_minor": 2
}
