{
 "cells": [
  {
   "cell_type": "code",
   "execution_count": 1,
   "metadata": {},
   "outputs": [],
   "source": [
    "import pandas as pd\n",
    "import numpy as np\n",
    "import matplotlib.pyplot as plt\n",
    "import seaborn as sns\n",
    "from wordcloud import WordCloud\n",
    "from datetime import datetime, date\n",
    "import re"
   ]
  },
  {
   "cell_type": "code",
   "execution_count": 2,
   "metadata": {},
   "outputs": [],
   "source": [
    "file_path='E:/Metro2/raw_data//'\n",
    "df=pd.read_csv(file_path+'Metro survey no 2 post-processed data (03-05-2024) 203 samples.csv')"
   ]
  },
  {
   "cell_type": "markdown",
   "metadata": {},
   "source": [
    "### Sanity check for total time"
   ]
  },
  {
   "cell_type": "code",
   "execution_count": 3,
   "metadata": {},
   "outputs": [
    {
     "name": "stdout",
     "output_type": "stream",
     "text": [
      "Intern          Index    Total Time    Access Time    Egress Time    Time in metro  Origin                                                       Destination\n",
      "------------  -------  ------------  -------------  -------------  ---------------  -----------------------------------------------------------  -----------------------------------------------------------\n",
      "Keerthi M          13             5              5             10              -10  Hoodi (purple line)                                          Krishnarajapuram - K.R.Puram (purple line)\n",
      "Sneha             115            40             40             10              -10  Nadaprabhu Kempegowda Station, Majestic (green/purple line)  Hoodi (purple line)\n",
      "Sneha             131            30             15             10                5  Nadaprabhu Kempegowda Station, Majestic (green/purple line)  Magadi Road (purple line)\n",
      "Sneha             187            20              5             15                0  Dasarahalli (green line)                                     Sandal Soap Factory (green line)\n",
      "Tulasi             62            30             20             15               -5  Jayaprakash Nagar (green line)                               Krishna Rajendra Market (green line)\n",
      "Tulasi             79            20             10             10                0  Magadi Road (purple line)                                    Kengeri Bus Terminal (purple line)\n",
      "Tulasi NS         145            45             20             20                5  Konanakunte Cross (green line)                               Jayanagar (green line)\n",
      "Tulasi NS         146            30             15             10                5  Yelachenahalli (green line)                                  Yeshwanthpur (green line)\n",
      "Tulasi NS         148            30             15             10                5  National College (green line)                                Mahalakshmi (green line)\n",
      "Tulasi NS         192             5             15             20              -30  Nadaprabhu Kempegowda Station, Majestic (green/purple line)  Srirampura (green line)\n",
      "Varad Verma       175            30             10             15                5  Jalahalli (green line)                                       Nadaprabhu Kempegowda Station, Majestic (green/purple line)\n",
      "Varad Verma       181            10              5              5                0  Jalahalli (green line)                                       Mahalakshmi (green line)\n",
      "Varad verma       113            20              5             20               -5  Mantri Square Sampige Road (green line)                      Nagasandra (green line)\n",
      "Vasundhara N        2            45             20             20                5  Nagasandra (green line)                                      Peenya Industry (green line)\n",
      "Vasundhara N       58            30             15             10                5  Nagasandra (green line)                                      Peenya Industry (green line)\n",
      "Vasundhara N       67            25              5             20                0  Goraguntepalya (green line)                                  Mantri Square Sampige Road (green line)\n",
      "Vasundhara N       87            20              5             10                5  Nadaprabhu Kempegowda Station, Majestic (green/purple line)  Attiguppe (purple line)\n",
      "Vasundhara N      127            20              5             10                5  Nagasandra (green line)                                      Yeshwanthpur (green line)\n"
     ]
    }
   ],
   "source": [
    "from tabulate import tabulate\n",
    "\n",
    "output_rows = []\n",
    "\n",
    "total_10b_11b = df['10a'] + df['11a']\n",
    "df['9'] = pd.to_numeric(df['9'], errors='coerce')\n",
    "\n",
    "# Create a list of tuples containing the relevant information\n",
    "for index, value in df.iterrows():\n",
    "    if total_10b_11b[index] >= value['9'] - 5:\n",
    "        output_rows.append([\n",
    "            value['1'],   # Intern\n",
    "            index,        # Index\n",
    "            value['9'],   # Total Time\n",
    "            value['10a'], # Access Time\n",
    "            value['11a'], # Egress Time\n",
    "            value['9']-value['10a']-value['11a'], #difference\n",
    "            value['2c'],  #Origin\n",
    "            value['2d'], #Destination\n",
    "        ])\n",
    "\n",
    "# Sort the list of tuples based on the enumerator name alphabetically\n",
    "output_rows.sort(key=lambda x: x[0])\n",
    "\n",
    "# Print the output as a table\n",
    "print(tabulate(output_rows, headers=[\"Intern\",\"Index\", \"Total Time\", \"Access Time\", \"Egress Time\",\"Time in metro\",\"Origin\",\"Destination\"]))\n"
   ]
  },
  {
   "cell_type": "markdown",
   "metadata": {},
   "source": [
    "### Sanity check for bicycle question"
   ]
  },
  {
   "cell_type": "code",
   "execution_count": 4,
   "metadata": {},
   "outputs": [
    {
     "name": "stdout",
     "output_type": "stream",
     "text": [
      "Intern: Keerthi M , Question: 12c(a), Index: 98\n",
      "Intern: Varad Verma , Question: 12c(c), Index: 129\n",
      "Intern: Varad Verma , Question: 12c(d), Index: 129\n",
      "Intern: Varad Verma , Question: 12c(e), Index: 129\n"
     ]
    }
   ],
   "source": [
    "\n",
    "for column in df.select_dtypes(include='object').columns:\n",
    "    if re.match(r'^12c\\([a-e]\\)$', column):\n",
    "        for index, value in df[column].items():\n",
    "            if value.count(',') > 1:\n",
    "                print(f\"Intern: {df.iloc[index]['1']}, Question: {column}, Index: {index}\")\n"
   ]
  },
  {
   "cell_type": "code",
   "execution_count": 5,
   "metadata": {},
   "outputs": [],
   "source": [
    "#print the column 1 where column 4 is Home and 6 is Home\n",
    "\n"
   ]
  }
 ],
 "metadata": {
  "kernelspec": {
   "display_name": "base",
   "language": "python",
   "name": "python3"
  },
  "language_info": {
   "codemirror_mode": {
    "name": "ipython",
    "version": 3
   },
   "file_extension": ".py",
   "mimetype": "text/x-python",
   "name": "python",
   "nbconvert_exporter": "python",
   "pygments_lexer": "ipython3",
   "version": "3.11.7"
  }
 },
 "nbformat": 4,
 "nbformat_minor": 2
}
